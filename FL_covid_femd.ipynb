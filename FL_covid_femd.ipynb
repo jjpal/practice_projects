{
  "nbformat": 4,
  "nbformat_minor": 0,
  "metadata": {
    "colab": {
      "name": "FL_covid_femd.ipynb",
      "provenance": [],
      "collapsed_sections": []
    },
    "kernelspec": {
      "name": "python3",
      "display_name": "Python 3"
    }
  },
  "cells": [
    {
      "cell_type": "markdown",
      "metadata": {
        "id": "6IVmGc6gIbbX",
        "colab_type": "text"
      },
      "source": [
        "florida_covid_july_16_2020_female_deaths.txt"
      ]
    },
    {
      "cell_type": "code",
      "metadata": {
        "id": "ksHCsjs8huq6",
        "colab_type": "code",
        "colab": {
          "base_uri": "https://localhost:8080/",
          "height": 34
        },
        "outputId": "419726b3-0546-4c7c-81c5-9431a5f1456a"
      },
      "source": [
        "### Load the Drive helper and mount\n",
        "from google.colab import drive\n",
        "\n",
        "### This will prompt for authorization.\n",
        "drive.mount('/content/drive')"
      ],
      "execution_count": 60,
      "outputs": [
        {
          "output_type": "stream",
          "text": [
            "Drive already mounted at /content/drive; to attempt to forcibly remount, call drive.mount(\"/content/drive\", force_remount=True).\n"
          ],
          "name": "stdout"
        }
      ]
    },
    {
      "cell_type": "code",
      "metadata": {
        "id": "xrI0nWyGWOiF",
        "colab_type": "code",
        "colab": {}
      },
      "source": [
        "import json \n",
        "import pandas as pd\n",
        "from pandas.io.json import json_normalize\n",
        "import numpy as np\n",
        "import matplotlib.pyplot as plt"
      ],
      "execution_count": 61,
      "outputs": []
    },
    {
      "cell_type": "code",
      "metadata": {
        "id": "dA9jFccuft-5",
        "colab_type": "code",
        "colab": {}
      },
      "source": [
        "### On google colab side pane go to the Folder icon, scroll down to to correct file right click file and select copy path \n",
        "with open('/content/drive/My Drive/florida_covid_july_16_2020_female_deaths.txt', 'r') as f:\n",
        "      covid_data_list = json.load(f)"
      ],
      "execution_count": 62,
      "outputs": []
    },
    {
      "cell_type": "code",
      "metadata": {
        "id": "IJAjhtPn_ll1",
        "colab_type": "code",
        "colab": {
          "base_uri": "https://localhost:8080/",
          "height": 70
        },
        "outputId": "695c963d-2936-40ec-aca3-61471b4127cb"
      },
      "source": [
        "### Moves DATE column into three columns\n",
        "data = pd.json_normalize(covid_data_list)\n",
        "\n",
        "### Dataframe for female deaths\n",
        "df_femd = pd.DataFrame(data)\n",
        "\n",
        "### column headers\n",
        "df_femd.columns"
      ],
      "execution_count": 63,
      "outputs": [
        {
          "output_type": "execute_result",
          "data": {
            "text/plain": [
              "Index(['CASE', 'COUNTY', 'AGE', 'GENDER', 'DATE.MONTH', 'DATE.DAY',\n",
              "       'DATE.YEAR', 'DATE.WEEKDAY'],\n",
              "      dtype='object')"
            ]
          },
          "metadata": {
            "tags": []
          },
          "execution_count": 63
        }
      ]
    },
    {
      "cell_type": "code",
      "metadata": {
        "id": "WolbyZ1fCPF3",
        "colab_type": "code",
        "colab": {
          "base_uri": "https://localhost:8080/",
          "height": 34
        },
        "outputId": "5908a635-2752-4735-bfe6-2eaffe669278"
      },
      "source": [
        "df_femd.shape"
      ],
      "execution_count": 64,
      "outputs": [
        {
          "output_type": "execute_result",
          "data": {
            "text/plain": [
              "(2126, 8)"
            ]
          },
          "metadata": {
            "tags": []
          },
          "execution_count": 64
        }
      ]
    },
    {
      "cell_type": "code",
      "metadata": {
        "id": "tmSXFN3GHTtw",
        "colab_type": "code",
        "colab": {
          "base_uri": "https://localhost:8080/",
          "height": 136
        },
        "outputId": "3922fd04-6865-4ad9-e672-87ff1635c902"
      },
      "source": [
        "df_femd.head(3)"
      ],
      "execution_count": 65,
      "outputs": [
        {
          "output_type": "execute_result",
          "data": {
            "text/html": [
              "<div>\n",
              "<style scoped>\n",
              "    .dataframe tbody tr th:only-of-type {\n",
              "        vertical-align: middle;\n",
              "    }\n",
              "\n",
              "    .dataframe tbody tr th {\n",
              "        vertical-align: top;\n",
              "    }\n",
              "\n",
              "    .dataframe thead th {\n",
              "        text-align: right;\n",
              "    }\n",
              "</style>\n",
              "<table border=\"1\" class=\"dataframe\">\n",
              "  <thead>\n",
              "    <tr style=\"text-align: right;\">\n",
              "      <th></th>\n",
              "      <th>CASE</th>\n",
              "      <th>COUNTY</th>\n",
              "      <th>AGE</th>\n",
              "      <th>GENDER</th>\n",
              "      <th>DATE.MONTH</th>\n",
              "      <th>DATE.DAY</th>\n",
              "      <th>DATE.YEAR</th>\n",
              "      <th>DATE.WEEKDAY</th>\n",
              "    </tr>\n",
              "  </thead>\n",
              "  <tbody>\n",
              "    <tr>\n",
              "      <th>0</th>\n",
              "      <td>1</td>\n",
              "      <td>Alachua</td>\n",
              "      <td>60</td>\n",
              "      <td>Female</td>\n",
              "      <td>04</td>\n",
              "      <td>09</td>\n",
              "      <td>2020</td>\n",
              "      <td>Thursday</td>\n",
              "    </tr>\n",
              "    <tr>\n",
              "      <th>1</th>\n",
              "      <td>2</td>\n",
              "      <td>Alachua</td>\n",
              "      <td>78</td>\n",
              "      <td>Female</td>\n",
              "      <td>04</td>\n",
              "      <td>09</td>\n",
              "      <td>2020</td>\n",
              "      <td>Thursday</td>\n",
              "    </tr>\n",
              "    <tr>\n",
              "      <th>2</th>\n",
              "      <td>6</td>\n",
              "      <td>Alachua</td>\n",
              "      <td>67</td>\n",
              "      <td>Female</td>\n",
              "      <td>04</td>\n",
              "      <td>18</td>\n",
              "      <td>2020</td>\n",
              "      <td>Saturday</td>\n",
              "    </tr>\n",
              "  </tbody>\n",
              "</table>\n",
              "</div>"
            ],
            "text/plain": [
              "  CASE   COUNTY AGE  GENDER DATE.MONTH DATE.DAY DATE.YEAR DATE.WEEKDAY\n",
              "0    1  Alachua  60  Female         04       09      2020     Thursday\n",
              "1    2  Alachua  78  Female         04       09      2020     Thursday\n",
              "2    6  Alachua  67  Female         04       18      2020     Saturday"
            ]
          },
          "metadata": {
            "tags": []
          },
          "execution_count": 65
        }
      ]
    },
    {
      "cell_type": "code",
      "metadata": {
        "id": "oXOwmHeyHUB-",
        "colab_type": "code",
        "colab": {
          "base_uri": "https://localhost:8080/",
          "height": 122
        },
        "outputId": "3adad792-8b3e-4b2d-a435-6d4ff6b7b92c"
      },
      "source": [
        "### Counts for the individual months\n",
        "df_femd[\"DATE.MONTH\"].value_counts()"
      ],
      "execution_count": 66,
      "outputs": [
        {
          "output_type": "execute_result",
          "data": {
            "text/plain": [
              "04    735\n",
              "05    542\n",
              "06    519\n",
              "07    195\n",
              "03    135\n",
              "Name: DATE.MONTH, dtype: int64"
            ]
          },
          "metadata": {
            "tags": []
          },
          "execution_count": 66
        }
      ]
    },
    {
      "cell_type": "code",
      "metadata": {
        "id": "xbMa93S4hLCi",
        "colab_type": "code",
        "colab": {
          "base_uri": "https://localhost:8080/",
          "height": 158
        },
        "outputId": "f2abe51c-ef86-40dc-d7c6-586bc9180bd9"
      },
      "source": [
        "### Counts for the Weekdays\n",
        "df_femd[\"DATE.WEEKDAY\"].value_counts()"
      ],
      "execution_count": 67,
      "outputs": [
        {
          "output_type": "execute_result",
          "data": {
            "text/plain": [
              "Thursday     340\n",
              "Wednesday    327\n",
              "Monday       321\n",
              "Friday       304\n",
              "Tuesday      293\n",
              "Saturday     289\n",
              "Sunday       252\n",
              "Name: DATE.WEEKDAY, dtype: int64"
            ]
          },
          "metadata": {
            "tags": []
          },
          "execution_count": 67
        }
      ]
    },
    {
      "cell_type": "code",
      "metadata": {
        "id": "Cls6DYQB7_NS",
        "colab_type": "code",
        "colab": {
          "base_uri": "https://localhost:8080/",
          "height": 136
        },
        "outputId": "27953e7e-725c-478f-977d-52362c33deeb"
      },
      "source": [
        "### Weekdays Find/Replace encoding\n",
        "cleanup_days = {\"DATE.WEEKDAY\":     {\"Sunday\": 1, \"Monday\": 2, \"Tuesday\":3, \"Wednesday\":4, \"Thursday\":5, \"Friday\":6, \"Saturday\":7}}\n",
        "df_femd.replace(cleanup_days, inplace=True)\n",
        "\n",
        "df_femd.head(3)                               "
      ],
      "execution_count": 68,
      "outputs": [
        {
          "output_type": "execute_result",
          "data": {
            "text/html": [
              "<div>\n",
              "<style scoped>\n",
              "    .dataframe tbody tr th:only-of-type {\n",
              "        vertical-align: middle;\n",
              "    }\n",
              "\n",
              "    .dataframe tbody tr th {\n",
              "        vertical-align: top;\n",
              "    }\n",
              "\n",
              "    .dataframe thead th {\n",
              "        text-align: right;\n",
              "    }\n",
              "</style>\n",
              "<table border=\"1\" class=\"dataframe\">\n",
              "  <thead>\n",
              "    <tr style=\"text-align: right;\">\n",
              "      <th></th>\n",
              "      <th>CASE</th>\n",
              "      <th>COUNTY</th>\n",
              "      <th>AGE</th>\n",
              "      <th>GENDER</th>\n",
              "      <th>DATE.MONTH</th>\n",
              "      <th>DATE.DAY</th>\n",
              "      <th>DATE.YEAR</th>\n",
              "      <th>DATE.WEEKDAY</th>\n",
              "    </tr>\n",
              "  </thead>\n",
              "  <tbody>\n",
              "    <tr>\n",
              "      <th>0</th>\n",
              "      <td>1</td>\n",
              "      <td>Alachua</td>\n",
              "      <td>60</td>\n",
              "      <td>Female</td>\n",
              "      <td>04</td>\n",
              "      <td>09</td>\n",
              "      <td>2020</td>\n",
              "      <td>5</td>\n",
              "    </tr>\n",
              "    <tr>\n",
              "      <th>1</th>\n",
              "      <td>2</td>\n",
              "      <td>Alachua</td>\n",
              "      <td>78</td>\n",
              "      <td>Female</td>\n",
              "      <td>04</td>\n",
              "      <td>09</td>\n",
              "      <td>2020</td>\n",
              "      <td>5</td>\n",
              "    </tr>\n",
              "    <tr>\n",
              "      <th>2</th>\n",
              "      <td>6</td>\n",
              "      <td>Alachua</td>\n",
              "      <td>67</td>\n",
              "      <td>Female</td>\n",
              "      <td>04</td>\n",
              "      <td>18</td>\n",
              "      <td>2020</td>\n",
              "      <td>7</td>\n",
              "    </tr>\n",
              "  </tbody>\n",
              "</table>\n",
              "</div>"
            ],
            "text/plain": [
              "  CASE   COUNTY AGE  GENDER DATE.MONTH DATE.DAY DATE.YEAR  DATE.WEEKDAY\n",
              "0    1  Alachua  60  Female         04       09      2020             5\n",
              "1    2  Alachua  78  Female         04       09      2020             5\n",
              "2    6  Alachua  67  Female         04       18      2020             7"
            ]
          },
          "metadata": {
            "tags": []
          },
          "execution_count": 68
        }
      ]
    },
    {
      "cell_type": "code",
      "metadata": {
        "id": "7LWirt2JJxNH",
        "colab_type": "code",
        "colab": {}
      },
      "source": [
        "### drop year since all values are 2020\n",
        "df_femd = df_femd.drop(['DATE.YEAR'], axis = 1)"
      ],
      "execution_count": 69,
      "outputs": []
    },
    {
      "cell_type": "code",
      "metadata": {
        "id": "vdpaWh90Jxei",
        "colab_type": "code",
        "colab": {}
      },
      "source": [
        "### change to numerics\n",
        "df_femd['DATE.DAY'] = df_femd['DATE.DAY'].astype(int)\n",
        "df_femd['DATE.MONTH'] = df_femd['DATE.MONTH'].astype(int)"
      ],
      "execution_count": 70,
      "outputs": []
    },
    {
      "cell_type": "code",
      "metadata": {
        "id": "3HJkD-mGKXwM",
        "colab_type": "code",
        "colab": {
          "base_uri": "https://localhost:8080/",
          "height": 136
        },
        "outputId": "c991e717-bc3f-46ce-c551-fc7f1b94bf00"
      },
      "source": [
        "df_femd.head(3)"
      ],
      "execution_count": 71,
      "outputs": [
        {
          "output_type": "execute_result",
          "data": {
            "text/html": [
              "<div>\n",
              "<style scoped>\n",
              "    .dataframe tbody tr th:only-of-type {\n",
              "        vertical-align: middle;\n",
              "    }\n",
              "\n",
              "    .dataframe tbody tr th {\n",
              "        vertical-align: top;\n",
              "    }\n",
              "\n",
              "    .dataframe thead th {\n",
              "        text-align: right;\n",
              "    }\n",
              "</style>\n",
              "<table border=\"1\" class=\"dataframe\">\n",
              "  <thead>\n",
              "    <tr style=\"text-align: right;\">\n",
              "      <th></th>\n",
              "      <th>CASE</th>\n",
              "      <th>COUNTY</th>\n",
              "      <th>AGE</th>\n",
              "      <th>GENDER</th>\n",
              "      <th>DATE.MONTH</th>\n",
              "      <th>DATE.DAY</th>\n",
              "      <th>DATE.WEEKDAY</th>\n",
              "    </tr>\n",
              "  </thead>\n",
              "  <tbody>\n",
              "    <tr>\n",
              "      <th>0</th>\n",
              "      <td>1</td>\n",
              "      <td>Alachua</td>\n",
              "      <td>60</td>\n",
              "      <td>Female</td>\n",
              "      <td>4</td>\n",
              "      <td>9</td>\n",
              "      <td>5</td>\n",
              "    </tr>\n",
              "    <tr>\n",
              "      <th>1</th>\n",
              "      <td>2</td>\n",
              "      <td>Alachua</td>\n",
              "      <td>78</td>\n",
              "      <td>Female</td>\n",
              "      <td>4</td>\n",
              "      <td>9</td>\n",
              "      <td>5</td>\n",
              "    </tr>\n",
              "    <tr>\n",
              "      <th>2</th>\n",
              "      <td>6</td>\n",
              "      <td>Alachua</td>\n",
              "      <td>67</td>\n",
              "      <td>Female</td>\n",
              "      <td>4</td>\n",
              "      <td>18</td>\n",
              "      <td>7</td>\n",
              "    </tr>\n",
              "  </tbody>\n",
              "</table>\n",
              "</div>"
            ],
            "text/plain": [
              "  CASE   COUNTY AGE  GENDER  DATE.MONTH  DATE.DAY  DATE.WEEKDAY\n",
              "0    1  Alachua  60  Female           4         9             5\n",
              "1    2  Alachua  78  Female           4         9             5\n",
              "2    6  Alachua  67  Female           4        18             7"
            ]
          },
          "metadata": {
            "tags": []
          },
          "execution_count": 71
        }
      ]
    },
    {
      "cell_type": "code",
      "metadata": {
        "id": "-O_Ri_MPLLjl",
        "colab_type": "code",
        "colab": {}
      },
      "source": [
        "### change to numeric\n",
        "df_femd['AGE'] = df_femd['AGE'].astype(int)"
      ],
      "execution_count": 72,
      "outputs": []
    },
    {
      "cell_type": "code",
      "metadata": {
        "id": "3aFhalJaKn4L",
        "colab_type": "code",
        "colab": {
          "base_uri": "https://localhost:8080/",
          "height": 158
        },
        "outputId": "1cd28740-34c2-4ab6-ad02-9186600d208a"
      },
      "source": [
        "### data types check\n",
        "df_femd.dtypes"
      ],
      "execution_count": 73,
      "outputs": [
        {
          "output_type": "execute_result",
          "data": {
            "text/plain": [
              "CASE            object\n",
              "COUNTY          object\n",
              "AGE              int64\n",
              "GENDER          object\n",
              "DATE.MONTH       int64\n",
              "DATE.DAY         int64\n",
              "DATE.WEEKDAY     int64\n",
              "dtype: object"
            ]
          },
          "metadata": {
            "tags": []
          },
          "execution_count": 73
        }
      ]
    },
    {
      "cell_type": "code",
      "metadata": {
        "id": "6kWA2aDpggNl",
        "colab_type": "code",
        "colab": {
          "base_uri": "https://localhost:8080/",
          "height": 1000
        },
        "outputId": "61b0d1af-d768-4f81-b663-f3504738f9ae"
      },
      "source": [
        "### Counts for the Counties\n",
        "df_femd[\"COUNTY\"].value_counts()"
      ],
      "execution_count": 74,
      "outputs": [
        {
          "output_type": "execute_result",
          "data": {
            "text/plain": [
              "Dade            548\n",
              "Palm Beach      278\n",
              "Broward         197\n",
              "Pinellas        153\n",
              "Hillsborough    125\n",
              "Lee              99\n",
              "Polk             91\n",
              "Manatee          67\n",
              "Charlotte        47\n",
              "Volusia          41\n",
              "St. Lucie        40\n",
              "Sarasota         39\n",
              "Duval            39\n",
              "Orange           38\n",
              "Collier          38\n",
              "Escambia         31\n",
              "Clay             21\n",
              "Martin           21\n",
              "Brevard          20\n",
              "Pasco            19\n",
              "Lake             18\n",
              "Seminole         17\n",
              "Osceola          16\n",
              "Hendry           13\n",
              "Indian River     10\n",
              "Suwannee          9\n",
              "Citrus            7\n",
              "Okaloosa          7\n",
              "Alachua           6\n",
              "Sumter            6\n",
              "Washington        5\n",
              "Hernando          5\n",
              "Leon              5\n",
              "Highlands         4\n",
              "St. Johns         4\n",
              "Marion            4\n",
              "Flagler           3\n",
              "Gadsden           3\n",
              "Baker             3\n",
              "Walton            3\n",
              "Calhoun           3\n",
              "Jefferson         2\n",
              "Putnam            2\n",
              "Santa Rosa        2\n",
              "Desoto            2\n",
              "Jackson           2\n",
              "Bradford          2\n",
              "Holmes            1\n",
              "Columbia          1\n",
              "Bay               1\n",
              "Taylor            1\n",
              "Madison           1\n",
              "Hardee            1\n",
              "Monroe            1\n",
              "Okeechobee        1\n",
              "Nassau            1\n",
              "Hamilton          1\n",
              "Levy              1\n",
              "Name: COUNTY, dtype: int64"
            ]
          },
          "metadata": {
            "tags": []
          },
          "execution_count": 74
        }
      ]
    },
    {
      "cell_type": "code",
      "metadata": {
        "id": "LmzM4avv1mMj",
        "colab_type": "code",
        "colab": {
          "base_uri": "https://localhost:8080/",
          "height": 34
        },
        "outputId": "8de3dfa9-cd40-4655-c1af-7886aec6960c"
      },
      "source": [
        "### check for how many unique counties\n",
        "df_femd[\"COUNTY\"].nunique()"
      ],
      "execution_count": 75,
      "outputs": [
        {
          "output_type": "execute_result",
          "data": {
            "text/plain": [
              "58"
            ]
          },
          "metadata": {
            "tags": []
          },
          "execution_count": 75
        }
      ]
    },
    {
      "cell_type": "code",
      "metadata": {
        "id": "ke7amWIXJxsz",
        "colab_type": "code",
        "colab": {
          "base_uri": "https://localhost:8080/",
          "height": 136
        },
        "outputId": "555208a6-40f5-40f8-d1d9-1dcc799abce8"
      },
      "source": [
        "### County Find/Replace encoding\n",
        "cleanup_county = {\"COUNTY\": {\"Alachua\": 1, \"Baker\": 2, \"Bay\": 3, \"Bradford\": 4, \"Brevard\": 5, \"Broward\": 6, \n",
        "                             \"Calhoun\": 7, \"Charlotte\": 8, \"Citrus\": 9, \"Clay\": 10, \"Collier\": 11, \"Columbia\": 12,\n",
        "\t\t\t\t\t\t\t\t\t\t\t\t\t\t \"Dade\": 13, \"Desoto\": 14, \"Dixie\": 15, \"Duval\": 16, \"Escambia\": 17, \"Flagler\": 18, \n",
        "\t\t\t\t\t\t\t\t\t\t\t\t\t\t \"Franklin\": 19, \"Gadsden\": 20, \"Gilchrist\": 21, \"Glades\": 22, \"Gulf\": 23, \n",
        "\t\t\t\t\t\t\t\t\t\t\t\t\t\t \"Hamilton\": 24, \"Hardee\": 25, \"Hendry\": 26, \"Hernando\": 27, \"Highlands\": 28, \n",
        "\t\t\t\t\t\t\t\t\t\t\t\t\t\t \"Hillsborough\": 29, \"Holmes\": 30, \"Indian River\":\t31, \"Jackson\": 32, \"Jefferson\":\t33, \n",
        "\t\t\t\t\t\t\t\t\t\t\t\t\t\t \"Lafayette\": 34, \"Lake\": 35, \"Lee\": 36, \"Leon\": 37, \"Levy\": 38, \"Liberty\":\t39, \n",
        "\t\t\t\t\t\t\t\t\t\t\t\t\t\t \"Madison\": 40, \"Manatee\": 41, \"Marion\": 42, \"Martin\": 43, \"Monroe\": 44, \n",
        "\t\t\t\t\t\t\t\t\t\t\t\t\t\t \"Nassau\": 45, \"Okaloosa\": 46, \"Okeechobee\": 47, \"Orange\": 48, \"Osceola\": 49, \n",
        "\t\t\t\t\t\t\t\t\t\t\t\t\t\t \"Palm Beach\": 50, \"Pasco\": 51, \"Pinellas\":\t52, \"Polk\":\t53, \"Putnam\": 54, \n",
        "\t\t\t\t\t\t\t\t\t\t\t\t\t\t \"St. Johns\": 55, \"St. Lucie\": 56, \"Santa Rosa\": 57, \"Sarasota\": 58, \"Seminole\": 59,\n",
        "\t\t\t\t\t\t\t\t\t\t\t\t\t\t \"Sumter\": 60, \"Suwannee\": 61, \"Taylor\": 62, \"Union\": 63, \"Volusia\": 64, \n",
        "\t\t\t\t\t\t\t\t\t\t\t\t\t\t \"Wakulla\": 65, \"Walton\": 66, \"Washington\": 67, \"Unknown\": 68 }} \t\t\t\t\t\t\t\t\t\t\t\t\t\t \n",
        "df_femd.replace(cleanup_county, inplace=True)\n",
        "\n",
        "df_femd.head(3)   "
      ],
      "execution_count": 76,
      "outputs": [
        {
          "output_type": "execute_result",
          "data": {
            "text/html": [
              "<div>\n",
              "<style scoped>\n",
              "    .dataframe tbody tr th:only-of-type {\n",
              "        vertical-align: middle;\n",
              "    }\n",
              "\n",
              "    .dataframe tbody tr th {\n",
              "        vertical-align: top;\n",
              "    }\n",
              "\n",
              "    .dataframe thead th {\n",
              "        text-align: right;\n",
              "    }\n",
              "</style>\n",
              "<table border=\"1\" class=\"dataframe\">\n",
              "  <thead>\n",
              "    <tr style=\"text-align: right;\">\n",
              "      <th></th>\n",
              "      <th>CASE</th>\n",
              "      <th>COUNTY</th>\n",
              "      <th>AGE</th>\n",
              "      <th>GENDER</th>\n",
              "      <th>DATE.MONTH</th>\n",
              "      <th>DATE.DAY</th>\n",
              "      <th>DATE.WEEKDAY</th>\n",
              "    </tr>\n",
              "  </thead>\n",
              "  <tbody>\n",
              "    <tr>\n",
              "      <th>0</th>\n",
              "      <td>1</td>\n",
              "      <td>1</td>\n",
              "      <td>60</td>\n",
              "      <td>Female</td>\n",
              "      <td>4</td>\n",
              "      <td>9</td>\n",
              "      <td>5</td>\n",
              "    </tr>\n",
              "    <tr>\n",
              "      <th>1</th>\n",
              "      <td>2</td>\n",
              "      <td>1</td>\n",
              "      <td>78</td>\n",
              "      <td>Female</td>\n",
              "      <td>4</td>\n",
              "      <td>9</td>\n",
              "      <td>5</td>\n",
              "    </tr>\n",
              "    <tr>\n",
              "      <th>2</th>\n",
              "      <td>6</td>\n",
              "      <td>1</td>\n",
              "      <td>67</td>\n",
              "      <td>Female</td>\n",
              "      <td>4</td>\n",
              "      <td>18</td>\n",
              "      <td>7</td>\n",
              "    </tr>\n",
              "  </tbody>\n",
              "</table>\n",
              "</div>"
            ],
            "text/plain": [
              "  CASE  COUNTY  AGE  GENDER  DATE.MONTH  DATE.DAY  DATE.WEEKDAY\n",
              "0    1       1   60  Female           4         9             5\n",
              "1    2       1   78  Female           4         9             5\n",
              "2    6       1   67  Female           4        18             7"
            ]
          },
          "metadata": {
            "tags": []
          },
          "execution_count": 76
        }
      ]
    },
    {
      "cell_type": "code",
      "metadata": {
        "id": "WdjJJxPOSu9d",
        "colab_type": "code",
        "colab": {}
      },
      "source": [
        "df_femd['COUNTY'] = df_femd['COUNTY'].astype(int)"
      ],
      "execution_count": 77,
      "outputs": []
    },
    {
      "cell_type": "code",
      "metadata": {
        "id": "iG-6t0ow8n7Z",
        "colab_type": "code",
        "colab": {}
      },
      "source": [
        "### add columns for female/male deaths\n",
        "df_femd['Deaths'] = 1\n",
        "df_femd['Cases'] = 0"
      ],
      "execution_count": 78,
      "outputs": []
    },
    {
      "cell_type": "code",
      "metadata": {
        "id": "20Td77mLSlo7",
        "colab_type": "code",
        "colab": {}
      },
      "source": [
        "### add column for female to replace GENDER which will be dropped\n",
        "df_femd.insert(3,'Female', 1) "
      ],
      "execution_count": 79,
      "outputs": []
    },
    {
      "cell_type": "code",
      "metadata": {
        "id": "lRtLp27ua90v",
        "colab_type": "code",
        "colab": {}
      },
      "source": [
        "### add column for male to replace GENDER which will be dropped\n",
        "df_femd.insert(4,'Male', 0) "
      ],
      "execution_count": 80,
      "outputs": []
    },
    {
      "cell_type": "code",
      "metadata": {
        "id": "-60JnUCMF6Mf",
        "colab_type": "code",
        "colab": {}
      },
      "source": [
        "df_femd = df_femd.drop(['GENDER'], axis = 1)"
      ],
      "execution_count": 81,
      "outputs": []
    },
    {
      "cell_type": "code",
      "metadata": {
        "id": "nZVU9t-cSZbF",
        "colab_type": "code",
        "colab": {}
      },
      "source": [
        "df_femd = df_femd.drop(['CASE'], axis = 1)"
      ],
      "execution_count": 82,
      "outputs": []
    },
    {
      "cell_type": "code",
      "metadata": {
        "id": "kD_S77V89uLr",
        "colab_type": "code",
        "colab": {
          "base_uri": "https://localhost:8080/",
          "height": 70
        },
        "outputId": "2f9905f1-761c-43d9-bda5-277e5de6e981"
      },
      "source": [
        "df_femd.columns"
      ],
      "execution_count": 83,
      "outputs": [
        {
          "output_type": "execute_result",
          "data": {
            "text/plain": [
              "Index(['COUNTY', 'AGE', 'Female', 'Male', 'DATE.MONTH', 'DATE.DAY',\n",
              "       'DATE.WEEKDAY', 'Deaths', 'Cases'],\n",
              "      dtype='object')"
            ]
          },
          "metadata": {
            "tags": []
          },
          "execution_count": 83
        }
      ]
    },
    {
      "cell_type": "code",
      "metadata": {
        "id": "vzmbGS9d_J1t",
        "colab_type": "code",
        "colab": {
          "base_uri": "https://localhost:8080/",
          "height": 136
        },
        "outputId": "c088a11a-bada-43a5-8d7f-e63c70340db7"
      },
      "source": [
        "df_femd.head(3)"
      ],
      "execution_count": 84,
      "outputs": [
        {
          "output_type": "execute_result",
          "data": {
            "text/html": [
              "<div>\n",
              "<style scoped>\n",
              "    .dataframe tbody tr th:only-of-type {\n",
              "        vertical-align: middle;\n",
              "    }\n",
              "\n",
              "    .dataframe tbody tr th {\n",
              "        vertical-align: top;\n",
              "    }\n",
              "\n",
              "    .dataframe thead th {\n",
              "        text-align: right;\n",
              "    }\n",
              "</style>\n",
              "<table border=\"1\" class=\"dataframe\">\n",
              "  <thead>\n",
              "    <tr style=\"text-align: right;\">\n",
              "      <th></th>\n",
              "      <th>COUNTY</th>\n",
              "      <th>AGE</th>\n",
              "      <th>Female</th>\n",
              "      <th>Male</th>\n",
              "      <th>DATE.MONTH</th>\n",
              "      <th>DATE.DAY</th>\n",
              "      <th>DATE.WEEKDAY</th>\n",
              "      <th>Deaths</th>\n",
              "      <th>Cases</th>\n",
              "    </tr>\n",
              "  </thead>\n",
              "  <tbody>\n",
              "    <tr>\n",
              "      <th>0</th>\n",
              "      <td>1</td>\n",
              "      <td>60</td>\n",
              "      <td>1</td>\n",
              "      <td>0</td>\n",
              "      <td>4</td>\n",
              "      <td>9</td>\n",
              "      <td>5</td>\n",
              "      <td>1</td>\n",
              "      <td>0</td>\n",
              "    </tr>\n",
              "    <tr>\n",
              "      <th>1</th>\n",
              "      <td>1</td>\n",
              "      <td>78</td>\n",
              "      <td>1</td>\n",
              "      <td>0</td>\n",
              "      <td>4</td>\n",
              "      <td>9</td>\n",
              "      <td>5</td>\n",
              "      <td>1</td>\n",
              "      <td>0</td>\n",
              "    </tr>\n",
              "    <tr>\n",
              "      <th>2</th>\n",
              "      <td>1</td>\n",
              "      <td>67</td>\n",
              "      <td>1</td>\n",
              "      <td>0</td>\n",
              "      <td>4</td>\n",
              "      <td>18</td>\n",
              "      <td>7</td>\n",
              "      <td>1</td>\n",
              "      <td>0</td>\n",
              "    </tr>\n",
              "  </tbody>\n",
              "</table>\n",
              "</div>"
            ],
            "text/plain": [
              "   COUNTY  AGE  Female  Male  DATE.MONTH  DATE.DAY  DATE.WEEKDAY  Deaths  Cases\n",
              "0       1   60       1     0           4         9             5       1      0\n",
              "1       1   78       1     0           4         9             5       1      0\n",
              "2       1   67       1     0           4        18             7       1      0"
            ]
          },
          "metadata": {
            "tags": []
          },
          "execution_count": 84
        }
      ]
    },
    {
      "cell_type": "code",
      "metadata": {
        "id": "t2_L1W5xGUMl",
        "colab_type": "code",
        "colab": {
          "base_uri": "https://localhost:8080/",
          "height": 193
        },
        "outputId": "035e6539-4b27-4521-f27e-1aba72f598ec"
      },
      "source": [
        "df_femd.dtypes"
      ],
      "execution_count": 85,
      "outputs": [
        {
          "output_type": "execute_result",
          "data": {
            "text/plain": [
              "COUNTY          int64\n",
              "AGE             int64\n",
              "Female          int64\n",
              "Male            int64\n",
              "DATE.MONTH      int64\n",
              "DATE.DAY        int64\n",
              "DATE.WEEKDAY    int64\n",
              "Deaths          int64\n",
              "Cases           int64\n",
              "dtype: object"
            ]
          },
          "metadata": {
            "tags": []
          },
          "execution_count": 85
        }
      ]
    },
    {
      "cell_type": "code",
      "metadata": {
        "id": "303x4xVsG04t",
        "colab_type": "code",
        "colab": {}
      },
      "source": [
        "# saving the dataframe \n",
        "df_femd.to_csv('encoded_female_deaths.csv') "
      ],
      "execution_count": 86,
      "outputs": []
    }
  ]
}