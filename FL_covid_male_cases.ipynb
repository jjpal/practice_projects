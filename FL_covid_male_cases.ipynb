{
  "nbformat": 4,
  "nbformat_minor": 0,
  "metadata": {
    "colab": {
      "name": " FL_covid_male_cases.ipynb",
      "provenance": [],
      "collapsed_sections": []
    },
    "kernelspec": {
      "name": "python3",
      "display_name": "Python 3"
    }
  },
  "cells": [
    {
      "cell_type": "markdown",
      "metadata": {
        "id": "6IVmGc6gIbbX",
        "colab_type": "text"
      },
      "source": [
        "florida_covid_july_16_2020_male_cases.txt"
      ]
    },
    {
      "cell_type": "code",
      "metadata": {
        "id": "ksHCsjs8huq6",
        "colab_type": "code",
        "colab": {
          "base_uri": "https://localhost:8080/",
          "height": 34
        },
        "outputId": "0a088554-9fcb-47b8-ea20-724fb03a832c"
      },
      "source": [
        "### Load the Drive helper and mount\n",
        "from google.colab import drive\n",
        "\n",
        "### This will prompt for authorization.\n",
        "drive.mount('/content/drive')"
      ],
      "execution_count": 27,
      "outputs": [
        {
          "output_type": "stream",
          "text": [
            "Drive already mounted at /content/drive; to attempt to forcibly remount, call drive.mount(\"/content/drive\", force_remount=True).\n"
          ],
          "name": "stdout"
        }
      ]
    },
    {
      "cell_type": "code",
      "metadata": {
        "id": "xrI0nWyGWOiF",
        "colab_type": "code",
        "colab": {}
      },
      "source": [
        "import json \n",
        "import pandas as pd\n",
        "from pandas.io.json import json_normalize\n",
        "import numpy as np\n",
        "import matplotlib.pyplot as plt"
      ],
      "execution_count": 28,
      "outputs": []
    },
    {
      "cell_type": "code",
      "metadata": {
        "id": "dA9jFccuft-5",
        "colab_type": "code",
        "colab": {}
      },
      "source": [
        "### On google colab side pane go to the Folder icon, scroll down to to correct file right click file and select copy path \n",
        "with open('/content/drive/My Drive/florida_covid_july_16_2020_male_cases.txt', 'r') as f:\n",
        "      covid_data_list = json.load(f)"
      ],
      "execution_count": 29,
      "outputs": []
    },
    {
      "cell_type": "code",
      "metadata": {
        "id": "IJAjhtPn_ll1",
        "colab_type": "code",
        "colab": {
          "base_uri": "https://localhost:8080/",
          "height": 70
        },
        "outputId": "c9f91237-0d40-4e18-f326-f2f16dad4cd8"
      },
      "source": [
        "### Moves DATE column into three columns\n",
        "data = pd.json_normalize(covid_data_list)\n",
        "\n",
        "### Dataframe for male deaths\n",
        "df_malcase = pd.DataFrame(data)\n",
        "\n",
        "### column headers\n",
        "df_malcase.columns"
      ],
      "execution_count": 30,
      "outputs": [
        {
          "output_type": "execute_result",
          "data": {
            "text/plain": [
              "Index(['CASE', 'COUNTY', 'AGE', 'GENDER', 'DATE.MONTH', 'DATE.DAY',\n",
              "       'DATE.YEAR', 'DATE.WEEKDAY'],\n",
              "      dtype='object')"
            ]
          },
          "metadata": {
            "tags": []
          },
          "execution_count": 30
        }
      ]
    },
    {
      "cell_type": "code",
      "metadata": {
        "id": "WolbyZ1fCPF3",
        "colab_type": "code",
        "colab": {
          "base_uri": "https://localhost:8080/",
          "height": 34
        },
        "outputId": "020afb7e-b353-4bee-cb7c-55504cd34a3c"
      },
      "source": [
        "df_malcase.shape"
      ],
      "execution_count": 31,
      "outputs": [
        {
          "output_type": "execute_result",
          "data": {
            "text/plain": [
              "(153012, 8)"
            ]
          },
          "metadata": {
            "tags": []
          },
          "execution_count": 31
        }
      ]
    },
    {
      "cell_type": "code",
      "metadata": {
        "id": "tmSXFN3GHTtw",
        "colab_type": "code",
        "colab": {
          "base_uri": "https://localhost:8080/",
          "height": 136
        },
        "outputId": "88a95f50-6036-46d3-8843-16af38198d40"
      },
      "source": [
        "df_malcase.head(3)"
      ],
      "execution_count": 32,
      "outputs": [
        {
          "output_type": "execute_result",
          "data": {
            "text/html": [
              "<div>\n",
              "<style scoped>\n",
              "    .dataframe tbody tr th:only-of-type {\n",
              "        vertical-align: middle;\n",
              "    }\n",
              "\n",
              "    .dataframe tbody tr th {\n",
              "        vertical-align: top;\n",
              "    }\n",
              "\n",
              "    .dataframe thead th {\n",
              "        text-align: right;\n",
              "    }\n",
              "</style>\n",
              "<table border=\"1\" class=\"dataframe\">\n",
              "  <thead>\n",
              "    <tr style=\"text-align: right;\">\n",
              "      <th></th>\n",
              "      <th>CASE</th>\n",
              "      <th>COUNTY</th>\n",
              "      <th>AGE</th>\n",
              "      <th>GENDER</th>\n",
              "      <th>DATE.MONTH</th>\n",
              "      <th>DATE.DAY</th>\n",
              "      <th>DATE.YEAR</th>\n",
              "      <th>DATE.WEEKDAY</th>\n",
              "    </tr>\n",
              "  </thead>\n",
              "  <tbody>\n",
              "    <tr>\n",
              "      <th>0</th>\n",
              "      <td>1</td>\n",
              "      <td>Alachua</td>\n",
              "      <td>24</td>\n",
              "      <td>Male</td>\n",
              "      <td>03</td>\n",
              "      <td>13</td>\n",
              "      <td>2020</td>\n",
              "      <td>Friday</td>\n",
              "    </tr>\n",
              "    <tr>\n",
              "      <th>1</th>\n",
              "      <td>3</td>\n",
              "      <td>Alachua</td>\n",
              "      <td>22</td>\n",
              "      <td>Male</td>\n",
              "      <td>03</td>\n",
              "      <td>17</td>\n",
              "      <td>2020</td>\n",
              "      <td>Tuesday</td>\n",
              "    </tr>\n",
              "    <tr>\n",
              "      <th>2</th>\n",
              "      <td>5</td>\n",
              "      <td>Alachua</td>\n",
              "      <td>51</td>\n",
              "      <td>Male</td>\n",
              "      <td>03</td>\n",
              "      <td>18</td>\n",
              "      <td>2020</td>\n",
              "      <td>Wednesday</td>\n",
              "    </tr>\n",
              "  </tbody>\n",
              "</table>\n",
              "</div>"
            ],
            "text/plain": [
              "  CASE   COUNTY AGE GENDER DATE.MONTH DATE.DAY DATE.YEAR DATE.WEEKDAY\n",
              "0    1  Alachua  24   Male         03       13      2020       Friday\n",
              "1    3  Alachua  22   Male         03       17      2020      Tuesday\n",
              "2    5  Alachua  51   Male         03       18      2020    Wednesday"
            ]
          },
          "metadata": {
            "tags": []
          },
          "execution_count": 32
        }
      ]
    },
    {
      "cell_type": "code",
      "metadata": {
        "id": "oXOwmHeyHUB-",
        "colab_type": "code",
        "colab": {
          "base_uri": "https://localhost:8080/",
          "height": 122
        },
        "outputId": "aa53b06c-bcdb-4df6-8762-8c45064df4df"
      },
      "source": [
        "### Counts for the individual months\n",
        "df_malcase[\"DATE.MONTH\"].value_counts()"
      ],
      "execution_count": 33,
      "outputs": [
        {
          "output_type": "execute_result",
          "data": {
            "text/plain": [
              "07    74331\n",
              "06    50643\n",
              "04    13531\n",
              "05    10845\n",
              "03     3662\n",
              "Name: DATE.MONTH, dtype: int64"
            ]
          },
          "metadata": {
            "tags": []
          },
          "execution_count": 33
        }
      ]
    },
    {
      "cell_type": "code",
      "metadata": {
        "id": "xbMa93S4hLCi",
        "colab_type": "code",
        "colab": {
          "base_uri": "https://localhost:8080/",
          "height": 158
        },
        "outputId": "ce7b3261-4f08-4472-a2a7-5839a81208e5"
      },
      "source": [
        "### Counts for the Weekdays\n",
        "df_malcase[\"DATE.WEEKDAY\"].value_counts()"
      ],
      "execution_count": 34,
      "outputs": [
        {
          "output_type": "execute_result",
          "data": {
            "text/plain": [
              "Wednesday    24785\n",
              "Saturday     24512\n",
              "Friday       23483\n",
              "Thursday     22158\n",
              "Tuesday      21165\n",
              "Monday       18872\n",
              "Sunday       18037\n",
              "Name: DATE.WEEKDAY, dtype: int64"
            ]
          },
          "metadata": {
            "tags": []
          },
          "execution_count": 34
        }
      ]
    },
    {
      "cell_type": "code",
      "metadata": {
        "id": "Cls6DYQB7_NS",
        "colab_type": "code",
        "colab": {
          "base_uri": "https://localhost:8080/",
          "height": 136
        },
        "outputId": "dea35ff3-7a83-443d-c578-03d205140e8c"
      },
      "source": [
        "### Weekdays Find/Replace encoding\n",
        "cleanup_days = {\"DATE.WEEKDAY\":     {\"Sunday\": 1, \"Monday\": 2, \"Tuesday\":3, \"Wednesday\":4, \"Thursday\":5, \"Friday\":6, \"Saturday\":7}}\n",
        "df_malcase.replace(cleanup_days, inplace=True)\n",
        "\n",
        "df_malcase.head(3)                               "
      ],
      "execution_count": 35,
      "outputs": [
        {
          "output_type": "execute_result",
          "data": {
            "text/html": [
              "<div>\n",
              "<style scoped>\n",
              "    .dataframe tbody tr th:only-of-type {\n",
              "        vertical-align: middle;\n",
              "    }\n",
              "\n",
              "    .dataframe tbody tr th {\n",
              "        vertical-align: top;\n",
              "    }\n",
              "\n",
              "    .dataframe thead th {\n",
              "        text-align: right;\n",
              "    }\n",
              "</style>\n",
              "<table border=\"1\" class=\"dataframe\">\n",
              "  <thead>\n",
              "    <tr style=\"text-align: right;\">\n",
              "      <th></th>\n",
              "      <th>CASE</th>\n",
              "      <th>COUNTY</th>\n",
              "      <th>AGE</th>\n",
              "      <th>GENDER</th>\n",
              "      <th>DATE.MONTH</th>\n",
              "      <th>DATE.DAY</th>\n",
              "      <th>DATE.YEAR</th>\n",
              "      <th>DATE.WEEKDAY</th>\n",
              "    </tr>\n",
              "  </thead>\n",
              "  <tbody>\n",
              "    <tr>\n",
              "      <th>0</th>\n",
              "      <td>1</td>\n",
              "      <td>Alachua</td>\n",
              "      <td>24</td>\n",
              "      <td>Male</td>\n",
              "      <td>03</td>\n",
              "      <td>13</td>\n",
              "      <td>2020</td>\n",
              "      <td>6</td>\n",
              "    </tr>\n",
              "    <tr>\n",
              "      <th>1</th>\n",
              "      <td>3</td>\n",
              "      <td>Alachua</td>\n",
              "      <td>22</td>\n",
              "      <td>Male</td>\n",
              "      <td>03</td>\n",
              "      <td>17</td>\n",
              "      <td>2020</td>\n",
              "      <td>3</td>\n",
              "    </tr>\n",
              "    <tr>\n",
              "      <th>2</th>\n",
              "      <td>5</td>\n",
              "      <td>Alachua</td>\n",
              "      <td>51</td>\n",
              "      <td>Male</td>\n",
              "      <td>03</td>\n",
              "      <td>18</td>\n",
              "      <td>2020</td>\n",
              "      <td>4</td>\n",
              "    </tr>\n",
              "  </tbody>\n",
              "</table>\n",
              "</div>"
            ],
            "text/plain": [
              "  CASE   COUNTY AGE GENDER DATE.MONTH DATE.DAY DATE.YEAR  DATE.WEEKDAY\n",
              "0    1  Alachua  24   Male         03       13      2020             6\n",
              "1    3  Alachua  22   Male         03       17      2020             3\n",
              "2    5  Alachua  51   Male         03       18      2020             4"
            ]
          },
          "metadata": {
            "tags": []
          },
          "execution_count": 35
        }
      ]
    },
    {
      "cell_type": "code",
      "metadata": {
        "id": "7LWirt2JJxNH",
        "colab_type": "code",
        "colab": {}
      },
      "source": [
        "### drop year since all values are 2020\n",
        "df_malcase = df_malcase.drop(['DATE.YEAR'], axis = 1)"
      ],
      "execution_count": 36,
      "outputs": []
    },
    {
      "cell_type": "code",
      "metadata": {
        "id": "vdpaWh90Jxei",
        "colab_type": "code",
        "colab": {}
      },
      "source": [
        "### change to numerics\n",
        "df_malcase['DATE.DAY'] = df_malcase['DATE.DAY'].astype(int)\n",
        "df_malcase['DATE.MONTH'] = df_malcase['DATE.MONTH'].astype(int)"
      ],
      "execution_count": 37,
      "outputs": []
    },
    {
      "cell_type": "code",
      "metadata": {
        "id": "3HJkD-mGKXwM",
        "colab_type": "code",
        "colab": {
          "base_uri": "https://localhost:8080/",
          "height": 136
        },
        "outputId": "da04c5db-fcda-4bd3-d5d3-6570dba2c079"
      },
      "source": [
        "df_malcase.head(3)"
      ],
      "execution_count": 38,
      "outputs": [
        {
          "output_type": "execute_result",
          "data": {
            "text/html": [
              "<div>\n",
              "<style scoped>\n",
              "    .dataframe tbody tr th:only-of-type {\n",
              "        vertical-align: middle;\n",
              "    }\n",
              "\n",
              "    .dataframe tbody tr th {\n",
              "        vertical-align: top;\n",
              "    }\n",
              "\n",
              "    .dataframe thead th {\n",
              "        text-align: right;\n",
              "    }\n",
              "</style>\n",
              "<table border=\"1\" class=\"dataframe\">\n",
              "  <thead>\n",
              "    <tr style=\"text-align: right;\">\n",
              "      <th></th>\n",
              "      <th>CASE</th>\n",
              "      <th>COUNTY</th>\n",
              "      <th>AGE</th>\n",
              "      <th>GENDER</th>\n",
              "      <th>DATE.MONTH</th>\n",
              "      <th>DATE.DAY</th>\n",
              "      <th>DATE.WEEKDAY</th>\n",
              "    </tr>\n",
              "  </thead>\n",
              "  <tbody>\n",
              "    <tr>\n",
              "      <th>0</th>\n",
              "      <td>1</td>\n",
              "      <td>Alachua</td>\n",
              "      <td>24</td>\n",
              "      <td>Male</td>\n",
              "      <td>3</td>\n",
              "      <td>13</td>\n",
              "      <td>6</td>\n",
              "    </tr>\n",
              "    <tr>\n",
              "      <th>1</th>\n",
              "      <td>3</td>\n",
              "      <td>Alachua</td>\n",
              "      <td>22</td>\n",
              "      <td>Male</td>\n",
              "      <td>3</td>\n",
              "      <td>17</td>\n",
              "      <td>3</td>\n",
              "    </tr>\n",
              "    <tr>\n",
              "      <th>2</th>\n",
              "      <td>5</td>\n",
              "      <td>Alachua</td>\n",
              "      <td>51</td>\n",
              "      <td>Male</td>\n",
              "      <td>3</td>\n",
              "      <td>18</td>\n",
              "      <td>4</td>\n",
              "    </tr>\n",
              "  </tbody>\n",
              "</table>\n",
              "</div>"
            ],
            "text/plain": [
              "  CASE   COUNTY AGE GENDER  DATE.MONTH  DATE.DAY  DATE.WEEKDAY\n",
              "0    1  Alachua  24   Male           3        13             6\n",
              "1    3  Alachua  22   Male           3        17             3\n",
              "2    5  Alachua  51   Male           3        18             4"
            ]
          },
          "metadata": {
            "tags": []
          },
          "execution_count": 38
        }
      ]
    },
    {
      "cell_type": "code",
      "metadata": {
        "id": "-O_Ri_MPLLjl",
        "colab_type": "code",
        "colab": {}
      },
      "source": [
        "### change to numeric\n",
        "df_malcase['AGE'] = df_malcase['AGE'].astype(int)"
      ],
      "execution_count": 39,
      "outputs": []
    },
    {
      "cell_type": "code",
      "metadata": {
        "id": "3aFhalJaKn4L",
        "colab_type": "code",
        "colab": {
          "base_uri": "https://localhost:8080/",
          "height": 158
        },
        "outputId": "6c2a1595-5193-4f9a-96b8-adf9942e8080"
      },
      "source": [
        "### data types check\n",
        "df_malcase.dtypes"
      ],
      "execution_count": 40,
      "outputs": [
        {
          "output_type": "execute_result",
          "data": {
            "text/plain": [
              "CASE            object\n",
              "COUNTY          object\n",
              "AGE              int64\n",
              "GENDER          object\n",
              "DATE.MONTH       int64\n",
              "DATE.DAY         int64\n",
              "DATE.WEEKDAY     int64\n",
              "dtype: object"
            ]
          },
          "metadata": {
            "tags": []
          },
          "execution_count": 40
        }
      ]
    },
    {
      "cell_type": "code",
      "metadata": {
        "id": "6kWA2aDpggNl",
        "colab_type": "code",
        "colab": {
          "base_uri": "https://localhost:8080/",
          "height": 228
        },
        "outputId": "25b71a20-6727-4a12-9ac5-e7d5d8b284d0"
      },
      "source": [
        "### Counts for the Counties\n",
        "df_malcase[\"COUNTY\"].value_counts()"
      ],
      "execution_count": 41,
      "outputs": [
        {
          "output_type": "execute_result",
          "data": {
            "text/plain": [
              "Dade            37323\n",
              "Broward         17306\n",
              "Palm Beach      11622\n",
              "Orange          10589\n",
              "Hillsborough     9895\n",
              "                ...  \n",
              "Dixie              65\n",
              "Gulf               55\n",
              "Jefferson          49\n",
              "Lafayette          30\n",
              "Franklin           19\n",
              "Name: COUNTY, Length: 68, dtype: int64"
            ]
          },
          "metadata": {
            "tags": []
          },
          "execution_count": 41
        }
      ]
    },
    {
      "cell_type": "code",
      "metadata": {
        "id": "LmzM4avv1mMj",
        "colab_type": "code",
        "colab": {
          "base_uri": "https://localhost:8080/",
          "height": 34
        },
        "outputId": "21c78592-9d0d-4e18-a7b1-135bc02f1157"
      },
      "source": [
        "### check for how many unique counties\n",
        "df_malcase[\"COUNTY\"].nunique()"
      ],
      "execution_count": 42,
      "outputs": [
        {
          "output_type": "execute_result",
          "data": {
            "text/plain": [
              "68"
            ]
          },
          "metadata": {
            "tags": []
          },
          "execution_count": 42
        }
      ]
    },
    {
      "cell_type": "code",
      "metadata": {
        "id": "ke7amWIXJxsz",
        "colab_type": "code",
        "colab": {
          "base_uri": "https://localhost:8080/",
          "height": 136
        },
        "outputId": "c2368b61-e142-4341-9389-9b82d9972279"
      },
      "source": [
        "### County Find/Replace encoding\n",
        "cleanup_county = {\"COUNTY\": {\"Alachua\": 1, \"Baker\": 2, \"Bay\": 3, \"Bradford\": 4, \"Brevard\": 5, \"Broward\": 6, \n",
        "                             \"Calhoun\": 7, \"Charlotte\": 8, \"Citrus\": 9, \"Clay\": 10, \"Collier\": 11, \"Columbia\": 12,\n",
        "\t\t\t\t\t\t\t\t\t\t\t\t\t\t \"Dade\": 13, \"Desoto\": 14, \"Dixie\": 15, \"Duval\": 16, \"Escambia\": 17, \"Flagler\": 18, \n",
        "\t\t\t\t\t\t\t\t\t\t\t\t\t\t \"Franklin\": 19, \"Gadsden\": 20, \"Gilchrist\": 21, \"Glades\": 22, \"Gulf\": 23, \n",
        "\t\t\t\t\t\t\t\t\t\t\t\t\t\t \"Hamilton\": 24, \"Hardee\": 25, \"Hendry\": 26, \"Hernando\": 27, \"Highlands\": 28, \n",
        "\t\t\t\t\t\t\t\t\t\t\t\t\t\t \"Hillsborough\": 29, \"Holmes\": 30, \"Indian River\":\t31, \"Jackson\": 32, \"Jefferson\":\t33, \n",
        "\t\t\t\t\t\t\t\t\t\t\t\t\t\t \"Lafayette\": 34, \"Lake\": 35, \"Lee\": 36, \"Leon\": 37, \"Levy\": 38, \"Liberty\":\t39, \n",
        "\t\t\t\t\t\t\t\t\t\t\t\t\t\t \"Madison\": 40, \"Manatee\": 41, \"Marion\": 42, \"Martin\": 43, \"Monroe\": 44, \n",
        "\t\t\t\t\t\t\t\t\t\t\t\t\t\t \"Nassau\": 45, \"Okaloosa\": 46, \"Okeechobee\": 47, \"Orange\": 48, \"Osceola\": 49, \n",
        "\t\t\t\t\t\t\t\t\t\t\t\t\t\t \"Palm Beach\": 50, \"Pasco\": 51, \"Pinellas\":\t52, \"Polk\":\t53, \"Putnam\": 54, \n",
        "\t\t\t\t\t\t\t\t\t\t\t\t\t\t \"St. Johns\": 55, \"St. Lucie\": 56, \"Santa Rosa\": 57, \"Sarasota\": 58, \"Seminole\": 59,\n",
        "\t\t\t\t\t\t\t\t\t\t\t\t\t\t \"Sumter\": 60, \"Suwannee\": 61, \"Taylor\": 62, \"Union\": 63, \"Volusia\": 64, \n",
        "\t\t\t\t\t\t\t\t\t\t\t\t\t\t \"Wakulla\": 65, \"Walton\": 66, \"Washington\": 67, \"Unknown\": 68 }} \t \n",
        "df_malcase.replace(cleanup_county, inplace=True)\n",
        "\n",
        "df_malcase.head(3)   "
      ],
      "execution_count": 43,
      "outputs": [
        {
          "output_type": "execute_result",
          "data": {
            "text/html": [
              "<div>\n",
              "<style scoped>\n",
              "    .dataframe tbody tr th:only-of-type {\n",
              "        vertical-align: middle;\n",
              "    }\n",
              "\n",
              "    .dataframe tbody tr th {\n",
              "        vertical-align: top;\n",
              "    }\n",
              "\n",
              "    .dataframe thead th {\n",
              "        text-align: right;\n",
              "    }\n",
              "</style>\n",
              "<table border=\"1\" class=\"dataframe\">\n",
              "  <thead>\n",
              "    <tr style=\"text-align: right;\">\n",
              "      <th></th>\n",
              "      <th>CASE</th>\n",
              "      <th>COUNTY</th>\n",
              "      <th>AGE</th>\n",
              "      <th>GENDER</th>\n",
              "      <th>DATE.MONTH</th>\n",
              "      <th>DATE.DAY</th>\n",
              "      <th>DATE.WEEKDAY</th>\n",
              "    </tr>\n",
              "  </thead>\n",
              "  <tbody>\n",
              "    <tr>\n",
              "      <th>0</th>\n",
              "      <td>1</td>\n",
              "      <td>1</td>\n",
              "      <td>24</td>\n",
              "      <td>Male</td>\n",
              "      <td>3</td>\n",
              "      <td>13</td>\n",
              "      <td>6</td>\n",
              "    </tr>\n",
              "    <tr>\n",
              "      <th>1</th>\n",
              "      <td>3</td>\n",
              "      <td>1</td>\n",
              "      <td>22</td>\n",
              "      <td>Male</td>\n",
              "      <td>3</td>\n",
              "      <td>17</td>\n",
              "      <td>3</td>\n",
              "    </tr>\n",
              "    <tr>\n",
              "      <th>2</th>\n",
              "      <td>5</td>\n",
              "      <td>1</td>\n",
              "      <td>51</td>\n",
              "      <td>Male</td>\n",
              "      <td>3</td>\n",
              "      <td>18</td>\n",
              "      <td>4</td>\n",
              "    </tr>\n",
              "  </tbody>\n",
              "</table>\n",
              "</div>"
            ],
            "text/plain": [
              "  CASE  COUNTY  AGE GENDER  DATE.MONTH  DATE.DAY  DATE.WEEKDAY\n",
              "0    1       1   24   Male           3        13             6\n",
              "1    3       1   22   Male           3        17             3\n",
              "2    5       1   51   Male           3        18             4"
            ]
          },
          "metadata": {
            "tags": []
          },
          "execution_count": 43
        }
      ]
    },
    {
      "cell_type": "code",
      "metadata": {
        "id": "iG-6t0ow8n7Z",
        "colab_type": "code",
        "colab": {}
      },
      "source": [
        "### add columns for male cases\n",
        "df_malcase['Deaths'] = 0\n",
        "df_malcase['Cases'] =  1"
      ],
      "execution_count": 44,
      "outputs": []
    },
    {
      "cell_type": "code",
      "metadata": {
        "id": "lvzukm80KdqM",
        "colab_type": "code",
        "colab": {}
      },
      "source": [
        "### add column for male to replace GENDER which will be dropped\n",
        "df_malcase.insert(3,'Female', 0) "
      ],
      "execution_count": 45,
      "outputs": []
    },
    {
      "cell_type": "code",
      "metadata": {
        "id": "4ce459dGbWHH",
        "colab_type": "code",
        "colab": {}
      },
      "source": [
        "### add column for male to replace GENDER which will be dropped\n",
        "df_malcase.insert(4,'Male', 1) "
      ],
      "execution_count": 47,
      "outputs": []
    },
    {
      "cell_type": "code",
      "metadata": {
        "id": "oKkYp_LdKd2-",
        "colab_type": "code",
        "colab": {}
      },
      "source": [
        "df_malcase = df_malcase.drop(['GENDER'], axis = 1)"
      ],
      "execution_count": 48,
      "outputs": []
    },
    {
      "cell_type": "code",
      "metadata": {
        "id": "7R1jife-WnTV",
        "colab_type": "code",
        "colab": {}
      },
      "source": [
        "df_malcase = df_malcase.drop(['CASE'], axis = 1)"
      ],
      "execution_count": 49,
      "outputs": []
    },
    {
      "cell_type": "code",
      "metadata": {
        "id": "kD_S77V89uLr",
        "colab_type": "code",
        "colab": {
          "base_uri": "https://localhost:8080/",
          "height": 70
        },
        "outputId": "75180a5b-25cd-49b0-8686-8fe4570d9fd8"
      },
      "source": [
        "df_malcase.columns"
      ],
      "execution_count": 50,
      "outputs": [
        {
          "output_type": "execute_result",
          "data": {
            "text/plain": [
              "Index(['COUNTY', 'AGE', 'Female', 'Male', 'DATE.MONTH', 'DATE.DAY',\n",
              "       'DATE.WEEKDAY', 'Deaths', 'Cases'],\n",
              "      dtype='object')"
            ]
          },
          "metadata": {
            "tags": []
          },
          "execution_count": 50
        }
      ]
    },
    {
      "cell_type": "code",
      "metadata": {
        "id": "vzmbGS9d_J1t",
        "colab_type": "code",
        "colab": {
          "base_uri": "https://localhost:8080/",
          "height": 136
        },
        "outputId": "61d076bf-344a-4edf-cf3b-bb2c6a29d938"
      },
      "source": [
        "df_malcase.head(3)"
      ],
      "execution_count": 51,
      "outputs": [
        {
          "output_type": "execute_result",
          "data": {
            "text/html": [
              "<div>\n",
              "<style scoped>\n",
              "    .dataframe tbody tr th:only-of-type {\n",
              "        vertical-align: middle;\n",
              "    }\n",
              "\n",
              "    .dataframe tbody tr th {\n",
              "        vertical-align: top;\n",
              "    }\n",
              "\n",
              "    .dataframe thead th {\n",
              "        text-align: right;\n",
              "    }\n",
              "</style>\n",
              "<table border=\"1\" class=\"dataframe\">\n",
              "  <thead>\n",
              "    <tr style=\"text-align: right;\">\n",
              "      <th></th>\n",
              "      <th>COUNTY</th>\n",
              "      <th>AGE</th>\n",
              "      <th>Female</th>\n",
              "      <th>Male</th>\n",
              "      <th>DATE.MONTH</th>\n",
              "      <th>DATE.DAY</th>\n",
              "      <th>DATE.WEEKDAY</th>\n",
              "      <th>Deaths</th>\n",
              "      <th>Cases</th>\n",
              "    </tr>\n",
              "  </thead>\n",
              "  <tbody>\n",
              "    <tr>\n",
              "      <th>0</th>\n",
              "      <td>1</td>\n",
              "      <td>24</td>\n",
              "      <td>0</td>\n",
              "      <td>1</td>\n",
              "      <td>3</td>\n",
              "      <td>13</td>\n",
              "      <td>6</td>\n",
              "      <td>0</td>\n",
              "      <td>1</td>\n",
              "    </tr>\n",
              "    <tr>\n",
              "      <th>1</th>\n",
              "      <td>1</td>\n",
              "      <td>22</td>\n",
              "      <td>0</td>\n",
              "      <td>1</td>\n",
              "      <td>3</td>\n",
              "      <td>17</td>\n",
              "      <td>3</td>\n",
              "      <td>0</td>\n",
              "      <td>1</td>\n",
              "    </tr>\n",
              "    <tr>\n",
              "      <th>2</th>\n",
              "      <td>1</td>\n",
              "      <td>51</td>\n",
              "      <td>0</td>\n",
              "      <td>1</td>\n",
              "      <td>3</td>\n",
              "      <td>18</td>\n",
              "      <td>4</td>\n",
              "      <td>0</td>\n",
              "      <td>1</td>\n",
              "    </tr>\n",
              "  </tbody>\n",
              "</table>\n",
              "</div>"
            ],
            "text/plain": [
              "   COUNTY  AGE  Female  Male  DATE.MONTH  DATE.DAY  DATE.WEEKDAY  Deaths  Cases\n",
              "0       1   24       0     1           3        13             6       0      1\n",
              "1       1   22       0     1           3        17             3       0      1\n",
              "2       1   51       0     1           3        18             4       0      1"
            ]
          },
          "metadata": {
            "tags": []
          },
          "execution_count": 51
        }
      ]
    },
    {
      "cell_type": "code",
      "metadata": {
        "id": "TGqrHgkeKpMF",
        "colab_type": "code",
        "colab": {
          "base_uri": "https://localhost:8080/",
          "height": 193
        },
        "outputId": "02544c44-efe1-4e7d-d6f1-1023c5e0ead7"
      },
      "source": [
        "df_malcase.dtypes"
      ],
      "execution_count": 52,
      "outputs": [
        {
          "output_type": "execute_result",
          "data": {
            "text/plain": [
              "COUNTY          int64\n",
              "AGE             int64\n",
              "Female          int64\n",
              "Male            int64\n",
              "DATE.MONTH      int64\n",
              "DATE.DAY        int64\n",
              "DATE.WEEKDAY    int64\n",
              "Deaths          int64\n",
              "Cases           int64\n",
              "dtype: object"
            ]
          },
          "metadata": {
            "tags": []
          },
          "execution_count": 52
        }
      ]
    },
    {
      "cell_type": "code",
      "metadata": {
        "id": "aR0AiLdAUH6H",
        "colab_type": "code",
        "colab": {}
      },
      "source": [
        "df_malcase.to_csv('encoded_male_cases.csv') "
      ],
      "execution_count": 53,
      "outputs": []
    }
  ]
}