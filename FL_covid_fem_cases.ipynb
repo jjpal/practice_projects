{
  "nbformat": 4,
  "nbformat_minor": 0,
  "metadata": {
    "colab": {
      "name": "FL_covid_fem_cases.ipynb",
      "provenance": [],
      "collapsed_sections": []
    },
    "kernelspec": {
      "name": "python3",
      "display_name": "Python 3"
    }
  },
  "cells": [
    {
      "cell_type": "markdown",
      "metadata": {
        "id": "6IVmGc6gIbbX",
        "colab_type": "text"
      },
      "source": [
        "florida_covid_july_16_2020_female_cases.txt"
      ]
    },
    {
      "cell_type": "code",
      "metadata": {
        "id": "ksHCsjs8huq6",
        "colab_type": "code",
        "colab": {
          "base_uri": "https://localhost:8080/",
          "height": 34
        },
        "outputId": "ece3c2c5-f2d3-482a-bd00-5c225af9a515"
      },
      "source": [
        "### Load the Drive helper and mount\n",
        "from google.colab import drive\n",
        "\n",
        "### This will prompt for authorization.\n",
        "drive.mount('/content/drive')"
      ],
      "execution_count": 26,
      "outputs": [
        {
          "output_type": "stream",
          "text": [
            "Drive already mounted at /content/drive; to attempt to forcibly remount, call drive.mount(\"/content/drive\", force_remount=True).\n"
          ],
          "name": "stdout"
        }
      ]
    },
    {
      "cell_type": "code",
      "metadata": {
        "id": "xrI0nWyGWOiF",
        "colab_type": "code",
        "colab": {}
      },
      "source": [
        "import json \n",
        "import pandas as pd\n",
        "from pandas.io.json import json_normalize\n",
        "import numpy as np\n",
        "import matplotlib.pyplot as plt"
      ],
      "execution_count": 27,
      "outputs": []
    },
    {
      "cell_type": "code",
      "metadata": {
        "id": "dA9jFccuft-5",
        "colab_type": "code",
        "colab": {}
      },
      "source": [
        "### On google colab side pane go to the Folder icon, scroll down to to correct file right click file and select copy path \n",
        "with open('/content/drive/My Drive/florida_covid_july_16_2020_female_cases.txt', 'r') as f:\n",
        "      covid_data_list = json.load(f)"
      ],
      "execution_count": 28,
      "outputs": []
    },
    {
      "cell_type": "code",
      "metadata": {
        "id": "IJAjhtPn_ll1",
        "colab_type": "code",
        "colab": {
          "base_uri": "https://localhost:8080/",
          "height": 70
        },
        "outputId": "72e2ece5-d040-4da7-d6ab-3199682bfd93"
      },
      "source": [
        "### Moves DATE column into three columns\n",
        "data = pd.json_normalize(covid_data_list)\n",
        "\n",
        "### Dataframe for female deaths\n",
        "df_femcase = pd.DataFrame(data)\n",
        "\n",
        "### column headers\n",
        "df_femcase.columns"
      ],
      "execution_count": 29,
      "outputs": [
        {
          "output_type": "execute_result",
          "data": {
            "text/plain": [
              "Index(['CASE', 'COUNTY', 'AGE', 'GENDER', 'DATE.MONTH', 'DATE.DAY',\n",
              "       'DATE.YEAR', 'DATE.WEEKDAY'],\n",
              "      dtype='object')"
            ]
          },
          "metadata": {
            "tags": []
          },
          "execution_count": 29
        }
      ]
    },
    {
      "cell_type": "code",
      "metadata": {
        "id": "WolbyZ1fCPF3",
        "colab_type": "code",
        "colab": {
          "base_uri": "https://localhost:8080/",
          "height": 34
        },
        "outputId": "1411ab6d-4995-40fe-e275-760e80b04011"
      },
      "source": [
        "df_femcase.shape"
      ],
      "execution_count": 30,
      "outputs": [
        {
          "output_type": "execute_result",
          "data": {
            "text/plain": [
              "(160076, 8)"
            ]
          },
          "metadata": {
            "tags": []
          },
          "execution_count": 30
        }
      ]
    },
    {
      "cell_type": "code",
      "metadata": {
        "id": "tmSXFN3GHTtw",
        "colab_type": "code",
        "colab": {
          "base_uri": "https://localhost:8080/",
          "height": 136
        },
        "outputId": "180cbcb3-9d2e-4846-a866-df83c52965a8"
      },
      "source": [
        "df_femcase.head(3)"
      ],
      "execution_count": 31,
      "outputs": [
        {
          "output_type": "execute_result",
          "data": {
            "text/html": [
              "<div>\n",
              "<style scoped>\n",
              "    .dataframe tbody tr th:only-of-type {\n",
              "        vertical-align: middle;\n",
              "    }\n",
              "\n",
              "    .dataframe tbody tr th {\n",
              "        vertical-align: top;\n",
              "    }\n",
              "\n",
              "    .dataframe thead th {\n",
              "        text-align: right;\n",
              "    }\n",
              "</style>\n",
              "<table border=\"1\" class=\"dataframe\">\n",
              "  <thead>\n",
              "    <tr style=\"text-align: right;\">\n",
              "      <th></th>\n",
              "      <th>CASE</th>\n",
              "      <th>COUNTY</th>\n",
              "      <th>AGE</th>\n",
              "      <th>GENDER</th>\n",
              "      <th>DATE.MONTH</th>\n",
              "      <th>DATE.DAY</th>\n",
              "      <th>DATE.YEAR</th>\n",
              "      <th>DATE.WEEKDAY</th>\n",
              "    </tr>\n",
              "  </thead>\n",
              "  <tbody>\n",
              "    <tr>\n",
              "      <th>0</th>\n",
              "      <td>2</td>\n",
              "      <td>Alachua</td>\n",
              "      <td>21</td>\n",
              "      <td>Female</td>\n",
              "      <td>03</td>\n",
              "      <td>17</td>\n",
              "      <td>2020</td>\n",
              "      <td>Tuesday</td>\n",
              "    </tr>\n",
              "    <tr>\n",
              "      <th>1</th>\n",
              "      <td>4</td>\n",
              "      <td>Alachua</td>\n",
              "      <td>50</td>\n",
              "      <td>Female</td>\n",
              "      <td>03</td>\n",
              "      <td>18</td>\n",
              "      <td>2020</td>\n",
              "      <td>Wednesday</td>\n",
              "    </tr>\n",
              "    <tr>\n",
              "      <th>2</th>\n",
              "      <td>6</td>\n",
              "      <td>Alachua</td>\n",
              "      <td>39</td>\n",
              "      <td>Female</td>\n",
              "      <td>03</td>\n",
              "      <td>18</td>\n",
              "      <td>2020</td>\n",
              "      <td>Wednesday</td>\n",
              "    </tr>\n",
              "  </tbody>\n",
              "</table>\n",
              "</div>"
            ],
            "text/plain": [
              "  CASE   COUNTY AGE  GENDER DATE.MONTH DATE.DAY DATE.YEAR DATE.WEEKDAY\n",
              "0    2  Alachua  21  Female         03       17      2020      Tuesday\n",
              "1    4  Alachua  50  Female         03       18      2020    Wednesday\n",
              "2    6  Alachua  39  Female         03       18      2020    Wednesday"
            ]
          },
          "metadata": {
            "tags": []
          },
          "execution_count": 31
        }
      ]
    },
    {
      "cell_type": "code",
      "metadata": {
        "id": "oXOwmHeyHUB-",
        "colab_type": "code",
        "colab": {
          "base_uri": "https://localhost:8080/",
          "height": 122
        },
        "outputId": "9895fd9d-6e1b-4c87-e041-f60af2662afc"
      },
      "source": [
        "### Counts for the individual months\n",
        "df_femcase[\"DATE.MONTH\"].value_counts()"
      ],
      "execution_count": 32,
      "outputs": [
        {
          "output_type": "execute_result",
          "data": {
            "text/plain": [
              "07    80232\n",
              "06    51309\n",
              "04    14084\n",
              "05    11329\n",
              "03     3122\n",
              "Name: DATE.MONTH, dtype: int64"
            ]
          },
          "metadata": {
            "tags": []
          },
          "execution_count": 32
        }
      ]
    },
    {
      "cell_type": "code",
      "metadata": {
        "id": "xbMa93S4hLCi",
        "colab_type": "code",
        "colab": {
          "base_uri": "https://localhost:8080/",
          "height": 158
        },
        "outputId": "946ea216-09a4-48bf-fbef-971a7d29f1eb"
      },
      "source": [
        "### Counts for the Weekdays\n",
        "df_femcase[\"DATE.WEEKDAY\"].value_counts()"
      ],
      "execution_count": 33,
      "outputs": [
        {
          "output_type": "execute_result",
          "data": {
            "text/plain": [
              "Wednesday    26270\n",
              "Saturday     25835\n",
              "Friday       24208\n",
              "Thursday     22976\n",
              "Tuesday      22446\n",
              "Monday       19311\n",
              "Sunday       19030\n",
              "Name: DATE.WEEKDAY, dtype: int64"
            ]
          },
          "metadata": {
            "tags": []
          },
          "execution_count": 33
        }
      ]
    },
    {
      "cell_type": "code",
      "metadata": {
        "id": "Cls6DYQB7_NS",
        "colab_type": "code",
        "colab": {
          "base_uri": "https://localhost:8080/",
          "height": 136
        },
        "outputId": "d9764654-837c-4fcd-fc97-e0a9f795c700"
      },
      "source": [
        "### Weekdays Find/Replace encoding\n",
        "cleanup_days = {\"DATE.WEEKDAY\":     {\"Sunday\": 1, \"Monday\": 2, \"Tuesday\":3, \"Wednesday\":4, \"Thursday\":5, \"Friday\":6, \"Saturday\":7}}\n",
        "df_femcase.replace(cleanup_days, inplace=True)\n",
        "\n",
        "df_femcase.head(3)                               "
      ],
      "execution_count": 34,
      "outputs": [
        {
          "output_type": "execute_result",
          "data": {
            "text/html": [
              "<div>\n",
              "<style scoped>\n",
              "    .dataframe tbody tr th:only-of-type {\n",
              "        vertical-align: middle;\n",
              "    }\n",
              "\n",
              "    .dataframe tbody tr th {\n",
              "        vertical-align: top;\n",
              "    }\n",
              "\n",
              "    .dataframe thead th {\n",
              "        text-align: right;\n",
              "    }\n",
              "</style>\n",
              "<table border=\"1\" class=\"dataframe\">\n",
              "  <thead>\n",
              "    <tr style=\"text-align: right;\">\n",
              "      <th></th>\n",
              "      <th>CASE</th>\n",
              "      <th>COUNTY</th>\n",
              "      <th>AGE</th>\n",
              "      <th>GENDER</th>\n",
              "      <th>DATE.MONTH</th>\n",
              "      <th>DATE.DAY</th>\n",
              "      <th>DATE.YEAR</th>\n",
              "      <th>DATE.WEEKDAY</th>\n",
              "    </tr>\n",
              "  </thead>\n",
              "  <tbody>\n",
              "    <tr>\n",
              "      <th>0</th>\n",
              "      <td>2</td>\n",
              "      <td>Alachua</td>\n",
              "      <td>21</td>\n",
              "      <td>Female</td>\n",
              "      <td>03</td>\n",
              "      <td>17</td>\n",
              "      <td>2020</td>\n",
              "      <td>3</td>\n",
              "    </tr>\n",
              "    <tr>\n",
              "      <th>1</th>\n",
              "      <td>4</td>\n",
              "      <td>Alachua</td>\n",
              "      <td>50</td>\n",
              "      <td>Female</td>\n",
              "      <td>03</td>\n",
              "      <td>18</td>\n",
              "      <td>2020</td>\n",
              "      <td>4</td>\n",
              "    </tr>\n",
              "    <tr>\n",
              "      <th>2</th>\n",
              "      <td>6</td>\n",
              "      <td>Alachua</td>\n",
              "      <td>39</td>\n",
              "      <td>Female</td>\n",
              "      <td>03</td>\n",
              "      <td>18</td>\n",
              "      <td>2020</td>\n",
              "      <td>4</td>\n",
              "    </tr>\n",
              "  </tbody>\n",
              "</table>\n",
              "</div>"
            ],
            "text/plain": [
              "  CASE   COUNTY AGE  GENDER DATE.MONTH DATE.DAY DATE.YEAR  DATE.WEEKDAY\n",
              "0    2  Alachua  21  Female         03       17      2020             3\n",
              "1    4  Alachua  50  Female         03       18      2020             4\n",
              "2    6  Alachua  39  Female         03       18      2020             4"
            ]
          },
          "metadata": {
            "tags": []
          },
          "execution_count": 34
        }
      ]
    },
    {
      "cell_type": "code",
      "metadata": {
        "id": "7LWirt2JJxNH",
        "colab_type": "code",
        "colab": {}
      },
      "source": [
        "### drop year since all values are 2020\n",
        "df_femcase = df_femcase.drop(['DATE.YEAR'], axis = 1)"
      ],
      "execution_count": 35,
      "outputs": []
    },
    {
      "cell_type": "code",
      "metadata": {
        "id": "vdpaWh90Jxei",
        "colab_type": "code",
        "colab": {}
      },
      "source": [
        "### change to numerics\n",
        "df_femcase['DATE.DAY'] = df_femcase['DATE.DAY'].astype(int)\n",
        "df_femcase['DATE.MONTH'] = df_femcase['DATE.MONTH'].astype(int)"
      ],
      "execution_count": 36,
      "outputs": []
    },
    {
      "cell_type": "code",
      "metadata": {
        "id": "3HJkD-mGKXwM",
        "colab_type": "code",
        "colab": {
          "base_uri": "https://localhost:8080/",
          "height": 136
        },
        "outputId": "ec226f7f-b595-4583-9f4c-a8071f6fd9c4"
      },
      "source": [
        "df_femcase.head(3)"
      ],
      "execution_count": 37,
      "outputs": [
        {
          "output_type": "execute_result",
          "data": {
            "text/html": [
              "<div>\n",
              "<style scoped>\n",
              "    .dataframe tbody tr th:only-of-type {\n",
              "        vertical-align: middle;\n",
              "    }\n",
              "\n",
              "    .dataframe tbody tr th {\n",
              "        vertical-align: top;\n",
              "    }\n",
              "\n",
              "    .dataframe thead th {\n",
              "        text-align: right;\n",
              "    }\n",
              "</style>\n",
              "<table border=\"1\" class=\"dataframe\">\n",
              "  <thead>\n",
              "    <tr style=\"text-align: right;\">\n",
              "      <th></th>\n",
              "      <th>CASE</th>\n",
              "      <th>COUNTY</th>\n",
              "      <th>AGE</th>\n",
              "      <th>GENDER</th>\n",
              "      <th>DATE.MONTH</th>\n",
              "      <th>DATE.DAY</th>\n",
              "      <th>DATE.WEEKDAY</th>\n",
              "    </tr>\n",
              "  </thead>\n",
              "  <tbody>\n",
              "    <tr>\n",
              "      <th>0</th>\n",
              "      <td>2</td>\n",
              "      <td>Alachua</td>\n",
              "      <td>21</td>\n",
              "      <td>Female</td>\n",
              "      <td>3</td>\n",
              "      <td>17</td>\n",
              "      <td>3</td>\n",
              "    </tr>\n",
              "    <tr>\n",
              "      <th>1</th>\n",
              "      <td>4</td>\n",
              "      <td>Alachua</td>\n",
              "      <td>50</td>\n",
              "      <td>Female</td>\n",
              "      <td>3</td>\n",
              "      <td>18</td>\n",
              "      <td>4</td>\n",
              "    </tr>\n",
              "    <tr>\n",
              "      <th>2</th>\n",
              "      <td>6</td>\n",
              "      <td>Alachua</td>\n",
              "      <td>39</td>\n",
              "      <td>Female</td>\n",
              "      <td>3</td>\n",
              "      <td>18</td>\n",
              "      <td>4</td>\n",
              "    </tr>\n",
              "  </tbody>\n",
              "</table>\n",
              "</div>"
            ],
            "text/plain": [
              "  CASE   COUNTY AGE  GENDER  DATE.MONTH  DATE.DAY  DATE.WEEKDAY\n",
              "0    2  Alachua  21  Female           3        17             3\n",
              "1    4  Alachua  50  Female           3        18             4\n",
              "2    6  Alachua  39  Female           3        18             4"
            ]
          },
          "metadata": {
            "tags": []
          },
          "execution_count": 37
        }
      ]
    },
    {
      "cell_type": "code",
      "metadata": {
        "id": "-O_Ri_MPLLjl",
        "colab_type": "code",
        "colab": {}
      },
      "source": [
        "### change to numeric\n",
        "df_femcase['AGE'] = df_femcase['AGE'].astype(int)"
      ],
      "execution_count": 38,
      "outputs": []
    },
    {
      "cell_type": "code",
      "metadata": {
        "id": "3aFhalJaKn4L",
        "colab_type": "code",
        "colab": {
          "base_uri": "https://localhost:8080/",
          "height": 158
        },
        "outputId": "0f249eec-2c21-4935-f5a9-382a89e5c99f"
      },
      "source": [
        "### data types check\n",
        "df_femcase.dtypes"
      ],
      "execution_count": 39,
      "outputs": [
        {
          "output_type": "execute_result",
          "data": {
            "text/plain": [
              "CASE            object\n",
              "COUNTY          object\n",
              "AGE              int64\n",
              "GENDER          object\n",
              "DATE.MONTH       int64\n",
              "DATE.DAY         int64\n",
              "DATE.WEEKDAY     int64\n",
              "dtype: object"
            ]
          },
          "metadata": {
            "tags": []
          },
          "execution_count": 39
        }
      ]
    },
    {
      "cell_type": "code",
      "metadata": {
        "id": "6kWA2aDpggNl",
        "colab_type": "code",
        "colab": {
          "base_uri": "https://localhost:8080/",
          "height": 228
        },
        "outputId": "290b8b3c-6b8a-4f1c-d35f-b8d9163e9103"
      },
      "source": [
        "### Counts for the Counties\n",
        "df_femcase[\"COUNTY\"].value_counts()"
      ],
      "execution_count": 40,
      "outputs": [
        {
          "output_type": "execute_result",
          "data": {
            "text/plain": [
              "Dade            37756\n",
              "Broward         18049\n",
              "Palm Beach      11983\n",
              "Hillsborough    11163\n",
              "Orange          10491\n",
              "                ...  \n",
              "Jefferson          53\n",
              "Union              43\n",
              "Lafayette          34\n",
              "Franklin           29\n",
              "Liberty            28\n",
              "Name: COUNTY, Length: 68, dtype: int64"
            ]
          },
          "metadata": {
            "tags": []
          },
          "execution_count": 40
        }
      ]
    },
    {
      "cell_type": "code",
      "metadata": {
        "id": "LmzM4avv1mMj",
        "colab_type": "code",
        "colab": {
          "base_uri": "https://localhost:8080/",
          "height": 34
        },
        "outputId": "e8ca871a-3f8b-466a-e9fa-8ff0c6317967"
      },
      "source": [
        "### check for how many unique counties\n",
        "df_femcase[\"COUNTY\"].nunique()"
      ],
      "execution_count": 41,
      "outputs": [
        {
          "output_type": "execute_result",
          "data": {
            "text/plain": [
              "68"
            ]
          },
          "metadata": {
            "tags": []
          },
          "execution_count": 41
        }
      ]
    },
    {
      "cell_type": "code",
      "metadata": {
        "id": "ke7amWIXJxsz",
        "colab_type": "code",
        "colab": {
          "base_uri": "https://localhost:8080/",
          "height": 136
        },
        "outputId": "17971a12-6b2e-4dc7-82ee-4847790cb60e"
      },
      "source": [
        "### County Find/Replace encoding\n",
        "cleanup_county = {\"COUNTY\": {\"Alachua\": 1, \"Baker\": 2, \"Bay\": 3, \"Bradford\": 4, \"Brevard\": 5, \"Broward\": 6, \n",
        "                             \"Calhoun\": 7, \"Charlotte\": 8, \"Citrus\": 9, \"Clay\": 10, \"Collier\": 11, \"Columbia\": 12,\n",
        "\t\t\t\t\t\t\t\t\t\t\t\t\t\t \"Dade\": 13, \"Desoto\": 14, \"Dixie\": 15, \"Duval\": 16, \"Escambia\": 17, \"Flagler\": 18, \n",
        "\t\t\t\t\t\t\t\t\t\t\t\t\t\t \"Franklin\": 19, \"Gadsden\": 20, \"Gilchrist\": 21, \"Glades\": 22, \"Gulf\": 23, \n",
        "\t\t\t\t\t\t\t\t\t\t\t\t\t\t \"Hamilton\": 24, \"Hardee\": 25, \"Hendry\": 26, \"Hernando\": 27, \"Highlands\": 28, \n",
        "\t\t\t\t\t\t\t\t\t\t\t\t\t\t \"Hillsborough\": 29, \"Holmes\": 30, \"Indian River\":\t31, \"Jackson\": 32, \"Jefferson\":\t33, \n",
        "\t\t\t\t\t\t\t\t\t\t\t\t\t\t \"Lafayette\": 34, \"Lake\": 35, \"Lee\": 36, \"Leon\": 37, \"Levy\": 38, \"Liberty\":\t39, \n",
        "\t\t\t\t\t\t\t\t\t\t\t\t\t\t \"Madison\": 40, \"Manatee\": 41, \"Marion\": 42, \"Martin\": 43, \"Monroe\": 44, \n",
        "\t\t\t\t\t\t\t\t\t\t\t\t\t\t \"Nassau\": 45, \"Okaloosa\": 46, \"Okeechobee\": 47, \"Orange\": 48, \"Osceola\": 49, \n",
        "\t\t\t\t\t\t\t\t\t\t\t\t\t\t \"Palm Beach\": 50, \"Pasco\": 51, \"Pinellas\":\t52, \"Polk\":\t53, \"Putnam\": 54, \n",
        "\t\t\t\t\t\t\t\t\t\t\t\t\t\t \"St. Johns\": 55, \"St. Lucie\": 56, \"Santa Rosa\": 57, \"Sarasota\": 58, \"Seminole\": 59,\n",
        "\t\t\t\t\t\t\t\t\t\t\t\t\t\t \"Sumter\": 60, \"Suwannee\": 61, \"Taylor\": 62, \"Union\": 63, \"Volusia\": 64, \n",
        "\t\t\t\t\t\t\t\t\t\t\t\t\t\t \"Wakulla\": 65, \"Walton\": 66, \"Washington\": 67, \"Unknown\": 68 }} \t  \n",
        "df_femcase.replace(cleanup_county, inplace=True)\n",
        "\n",
        "df_femcase.head(3)    "
      ],
      "execution_count": 42,
      "outputs": [
        {
          "output_type": "execute_result",
          "data": {
            "text/html": [
              "<div>\n",
              "<style scoped>\n",
              "    .dataframe tbody tr th:only-of-type {\n",
              "        vertical-align: middle;\n",
              "    }\n",
              "\n",
              "    .dataframe tbody tr th {\n",
              "        vertical-align: top;\n",
              "    }\n",
              "\n",
              "    .dataframe thead th {\n",
              "        text-align: right;\n",
              "    }\n",
              "</style>\n",
              "<table border=\"1\" class=\"dataframe\">\n",
              "  <thead>\n",
              "    <tr style=\"text-align: right;\">\n",
              "      <th></th>\n",
              "      <th>CASE</th>\n",
              "      <th>COUNTY</th>\n",
              "      <th>AGE</th>\n",
              "      <th>GENDER</th>\n",
              "      <th>DATE.MONTH</th>\n",
              "      <th>DATE.DAY</th>\n",
              "      <th>DATE.WEEKDAY</th>\n",
              "    </tr>\n",
              "  </thead>\n",
              "  <tbody>\n",
              "    <tr>\n",
              "      <th>0</th>\n",
              "      <td>2</td>\n",
              "      <td>1</td>\n",
              "      <td>21</td>\n",
              "      <td>Female</td>\n",
              "      <td>3</td>\n",
              "      <td>17</td>\n",
              "      <td>3</td>\n",
              "    </tr>\n",
              "    <tr>\n",
              "      <th>1</th>\n",
              "      <td>4</td>\n",
              "      <td>1</td>\n",
              "      <td>50</td>\n",
              "      <td>Female</td>\n",
              "      <td>3</td>\n",
              "      <td>18</td>\n",
              "      <td>4</td>\n",
              "    </tr>\n",
              "    <tr>\n",
              "      <th>2</th>\n",
              "      <td>6</td>\n",
              "      <td>1</td>\n",
              "      <td>39</td>\n",
              "      <td>Female</td>\n",
              "      <td>3</td>\n",
              "      <td>18</td>\n",
              "      <td>4</td>\n",
              "    </tr>\n",
              "  </tbody>\n",
              "</table>\n",
              "</div>"
            ],
            "text/plain": [
              "  CASE  COUNTY  AGE  GENDER  DATE.MONTH  DATE.DAY  DATE.WEEKDAY\n",
              "0    2       1   21  Female           3        17             3\n",
              "1    4       1   50  Female           3        18             4\n",
              "2    6       1   39  Female           3        18             4"
            ]
          },
          "metadata": {
            "tags": []
          },
          "execution_count": 42
        }
      ]
    },
    {
      "cell_type": "code",
      "metadata": {
        "id": "iG-6t0ow8n7Z",
        "colab_type": "code",
        "colab": {}
      },
      "source": [
        "### add columns for female cases\n",
        "df_femcase['Deaths'] = 0\n",
        "df_femcase['Cases'] =  1"
      ],
      "execution_count": 43,
      "outputs": []
    },
    {
      "cell_type": "code",
      "metadata": {
        "id": "rw1ADRAlKU6L",
        "colab_type": "code",
        "colab": {}
      },
      "source": [
        "### add column for female to replace GENDER which will be dropped\n",
        "df_femcase.insert(3,'Female', 1) "
      ],
      "execution_count": 44,
      "outputs": []
    },
    {
      "cell_type": "code",
      "metadata": {
        "id": "HTomDK_DbCLC",
        "colab_type": "code",
        "colab": {}
      },
      "source": [
        "### add column for male to replace GENDER which will be dropped\n",
        "df_femcase.insert(4,'Male', 0) "
      ],
      "execution_count": 45,
      "outputs": []
    },
    {
      "cell_type": "code",
      "metadata": {
        "id": "qZt08CZNKVIs",
        "colab_type": "code",
        "colab": {}
      },
      "source": [
        "df_femcase = df_femcase.drop(['GENDER'], axis = 1)"
      ],
      "execution_count": 46,
      "outputs": []
    },
    {
      "cell_type": "code",
      "metadata": {
        "id": "9qw4AY38WCdU",
        "colab_type": "code",
        "colab": {}
      },
      "source": [
        "df_femcase = df_femcase.drop(['CASE'], axis = 1)"
      ],
      "execution_count": 47,
      "outputs": []
    },
    {
      "cell_type": "code",
      "metadata": {
        "id": "kD_S77V89uLr",
        "colab_type": "code",
        "colab": {
          "base_uri": "https://localhost:8080/",
          "height": 70
        },
        "outputId": "242bc235-1889-49f0-9818-5850464178fe"
      },
      "source": [
        "df_femcase.columns"
      ],
      "execution_count": 48,
      "outputs": [
        {
          "output_type": "execute_result",
          "data": {
            "text/plain": [
              "Index(['COUNTY', 'AGE', 'Female', 'Male', 'DATE.MONTH', 'DATE.DAY',\n",
              "       'DATE.WEEKDAY', 'Deaths', 'Cases'],\n",
              "      dtype='object')"
            ]
          },
          "metadata": {
            "tags": []
          },
          "execution_count": 48
        }
      ]
    },
    {
      "cell_type": "code",
      "metadata": {
        "id": "vzmbGS9d_J1t",
        "colab_type": "code",
        "colab": {
          "base_uri": "https://localhost:8080/",
          "height": 136
        },
        "outputId": "f52b9aa7-cd36-424a-bbab-eed7721503ee"
      },
      "source": [
        "df_femcase.head(3)"
      ],
      "execution_count": 49,
      "outputs": [
        {
          "output_type": "execute_result",
          "data": {
            "text/html": [
              "<div>\n",
              "<style scoped>\n",
              "    .dataframe tbody tr th:only-of-type {\n",
              "        vertical-align: middle;\n",
              "    }\n",
              "\n",
              "    .dataframe tbody tr th {\n",
              "        vertical-align: top;\n",
              "    }\n",
              "\n",
              "    .dataframe thead th {\n",
              "        text-align: right;\n",
              "    }\n",
              "</style>\n",
              "<table border=\"1\" class=\"dataframe\">\n",
              "  <thead>\n",
              "    <tr style=\"text-align: right;\">\n",
              "      <th></th>\n",
              "      <th>COUNTY</th>\n",
              "      <th>AGE</th>\n",
              "      <th>Female</th>\n",
              "      <th>Male</th>\n",
              "      <th>DATE.MONTH</th>\n",
              "      <th>DATE.DAY</th>\n",
              "      <th>DATE.WEEKDAY</th>\n",
              "      <th>Deaths</th>\n",
              "      <th>Cases</th>\n",
              "    </tr>\n",
              "  </thead>\n",
              "  <tbody>\n",
              "    <tr>\n",
              "      <th>0</th>\n",
              "      <td>1</td>\n",
              "      <td>21</td>\n",
              "      <td>1</td>\n",
              "      <td>0</td>\n",
              "      <td>3</td>\n",
              "      <td>17</td>\n",
              "      <td>3</td>\n",
              "      <td>0</td>\n",
              "      <td>1</td>\n",
              "    </tr>\n",
              "    <tr>\n",
              "      <th>1</th>\n",
              "      <td>1</td>\n",
              "      <td>50</td>\n",
              "      <td>1</td>\n",
              "      <td>0</td>\n",
              "      <td>3</td>\n",
              "      <td>18</td>\n",
              "      <td>4</td>\n",
              "      <td>0</td>\n",
              "      <td>1</td>\n",
              "    </tr>\n",
              "    <tr>\n",
              "      <th>2</th>\n",
              "      <td>1</td>\n",
              "      <td>39</td>\n",
              "      <td>1</td>\n",
              "      <td>0</td>\n",
              "      <td>3</td>\n",
              "      <td>18</td>\n",
              "      <td>4</td>\n",
              "      <td>0</td>\n",
              "      <td>1</td>\n",
              "    </tr>\n",
              "  </tbody>\n",
              "</table>\n",
              "</div>"
            ],
            "text/plain": [
              "   COUNTY  AGE  Female  Male  DATE.MONTH  DATE.DAY  DATE.WEEKDAY  Deaths  Cases\n",
              "0       1   21       1     0           3        17             3       0      1\n",
              "1       1   50       1     0           3        18             4       0      1\n",
              "2       1   39       1     0           3        18             4       0      1"
            ]
          },
          "metadata": {
            "tags": []
          },
          "execution_count": 49
        }
      ]
    },
    {
      "cell_type": "code",
      "metadata": {
        "id": "O07N_xQtT_Fm",
        "colab_type": "code",
        "colab": {
          "base_uri": "https://localhost:8080/",
          "height": 193
        },
        "outputId": "e28b6ae1-87dd-4d45-d832-424dd349447e"
      },
      "source": [
        "df_femcase.dtypes"
      ],
      "execution_count": 50,
      "outputs": [
        {
          "output_type": "execute_result",
          "data": {
            "text/plain": [
              "COUNTY          int64\n",
              "AGE             int64\n",
              "Female          int64\n",
              "Male            int64\n",
              "DATE.MONTH      int64\n",
              "DATE.DAY        int64\n",
              "DATE.WEEKDAY    int64\n",
              "Deaths          int64\n",
              "Cases           int64\n",
              "dtype: object"
            ]
          },
          "metadata": {
            "tags": []
          },
          "execution_count": 50
        }
      ]
    },
    {
      "cell_type": "code",
      "metadata": {
        "id": "VBcDA1HDKhni",
        "colab_type": "code",
        "colab": {}
      },
      "source": [
        "# saving the dataframe \n",
        "df_femcase.to_csv('encoded_female_cases.csv') "
      ],
      "execution_count": 51,
      "outputs": []
    }
  ]
}