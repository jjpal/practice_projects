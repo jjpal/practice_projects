{
  "nbformat": 4,
  "nbformat_minor": 0,
  "metadata": {
    "colab": {
      "name": "FL_covid_maled.ipynb",
      "provenance": [],
      "collapsed_sections": []
    },
    "kernelspec": {
      "name": "python3",
      "display_name": "Python 3"
    }
  },
  "cells": [
    {
      "cell_type": "markdown",
      "metadata": {
        "id": "6IVmGc6gIbbX",
        "colab_type": "text"
      },
      "source": [
        "florida_covid_july_16_2020_male_deaths.txt"
      ]
    },
    {
      "cell_type": "code",
      "metadata": {
        "id": "ksHCsjs8huq6",
        "colab_type": "code",
        "colab": {
          "base_uri": "https://localhost:8080/",
          "height": 34
        },
        "outputId": "4ee81c2d-4794-4673-8daf-4c5486df344c"
      },
      "source": [
        "### Load the Drive helper and mount\n",
        "from google.colab import drive\n",
        "\n",
        "### This will prompt for authorization.\n",
        "drive.mount('/content/drive')"
      ],
      "execution_count": 33,
      "outputs": [
        {
          "output_type": "stream",
          "text": [
            "Drive already mounted at /content/drive; to attempt to forcibly remount, call drive.mount(\"/content/drive\", force_remount=True).\n"
          ],
          "name": "stdout"
        }
      ]
    },
    {
      "cell_type": "code",
      "metadata": {
        "id": "xrI0nWyGWOiF",
        "colab_type": "code",
        "colab": {}
      },
      "source": [
        "import json \n",
        "import pandas as pd\n",
        "from pandas.io.json import json_normalize\n",
        "import numpy as np\n",
        "import matplotlib.pyplot as plt"
      ],
      "execution_count": 34,
      "outputs": []
    },
    {
      "cell_type": "code",
      "metadata": {
        "id": "dA9jFccuft-5",
        "colab_type": "code",
        "colab": {}
      },
      "source": [
        "### On google colab side pane go to the Folder icon, scroll down to to correct file right click file and select copy path \n",
        "with open('/content/drive/My Drive/florida_covid_july_16_2020_male_deaths.txt', 'r') as f:\n",
        "      covid_data_list = json.load(f)"
      ],
      "execution_count": 35,
      "outputs": []
    },
    {
      "cell_type": "code",
      "metadata": {
        "id": "IJAjhtPn_ll1",
        "colab_type": "code",
        "colab": {
          "base_uri": "https://localhost:8080/",
          "height": 70
        },
        "outputId": "c0ab28ea-f195-4dc6-829e-4dd01a8a1ae2"
      },
      "source": [
        "### Moves DATE column into three columns\n",
        "data = pd.json_normalize(covid_data_list)\n",
        "\n",
        "### Dataframe for male deaths\n",
        "df_mald = pd.DataFrame(data)\n",
        "\n",
        "### column headers\n",
        "df_mald.columns"
      ],
      "execution_count": 36,
      "outputs": [
        {
          "output_type": "execute_result",
          "data": {
            "text/plain": [
              "Index(['CASE', 'COUNTY', 'AGE', 'GENDER', 'DATE.MONTH', 'DATE.DAY',\n",
              "       'DATE.YEAR', 'DATE.WEEKDAY'],\n",
              "      dtype='object')"
            ]
          },
          "metadata": {
            "tags": []
          },
          "execution_count": 36
        }
      ]
    },
    {
      "cell_type": "code",
      "metadata": {
        "id": "WolbyZ1fCPF3",
        "colab_type": "code",
        "colab": {
          "base_uri": "https://localhost:8080/",
          "height": 34
        },
        "outputId": "42165add-ac75-4f7b-c01b-7f18ddfdac7b"
      },
      "source": [
        "df_mald.shape"
      ],
      "execution_count": 37,
      "outputs": [
        {
          "output_type": "execute_result",
          "data": {
            "text/plain": [
              "(2542, 8)"
            ]
          },
          "metadata": {
            "tags": []
          },
          "execution_count": 37
        }
      ]
    },
    {
      "cell_type": "code",
      "metadata": {
        "id": "tmSXFN3GHTtw",
        "colab_type": "code",
        "colab": {
          "base_uri": "https://localhost:8080/",
          "height": 136
        },
        "outputId": "b7c48157-e9e7-4108-cfad-9636f38ae805"
      },
      "source": [
        "df_mald.head(3)"
      ],
      "execution_count": 38,
      "outputs": [
        {
          "output_type": "execute_result",
          "data": {
            "text/html": [
              "<div>\n",
              "<style scoped>\n",
              "    .dataframe tbody tr th:only-of-type {\n",
              "        vertical-align: middle;\n",
              "    }\n",
              "\n",
              "    .dataframe tbody tr th {\n",
              "        vertical-align: top;\n",
              "    }\n",
              "\n",
              "    .dataframe thead th {\n",
              "        text-align: right;\n",
              "    }\n",
              "</style>\n",
              "<table border=\"1\" class=\"dataframe\">\n",
              "  <thead>\n",
              "    <tr style=\"text-align: right;\">\n",
              "      <th></th>\n",
              "      <th>CASE</th>\n",
              "      <th>COUNTY</th>\n",
              "      <th>AGE</th>\n",
              "      <th>GENDER</th>\n",
              "      <th>DATE.MONTH</th>\n",
              "      <th>DATE.DAY</th>\n",
              "      <th>DATE.YEAR</th>\n",
              "      <th>DATE.WEEKDAY</th>\n",
              "    </tr>\n",
              "  </thead>\n",
              "  <tbody>\n",
              "    <tr>\n",
              "      <th>0</th>\n",
              "      <td>3</td>\n",
              "      <td>Alachua</td>\n",
              "      <td>87</td>\n",
              "      <td>Male</td>\n",
              "      <td>04</td>\n",
              "      <td>09</td>\n",
              "      <td>2020</td>\n",
              "      <td>Thursday</td>\n",
              "    </tr>\n",
              "    <tr>\n",
              "      <th>1</th>\n",
              "      <td>4</td>\n",
              "      <td>Alachua</td>\n",
              "      <td>76</td>\n",
              "      <td>Male</td>\n",
              "      <td>04</td>\n",
              "      <td>09</td>\n",
              "      <td>2020</td>\n",
              "      <td>Thursday</td>\n",
              "    </tr>\n",
              "    <tr>\n",
              "      <th>2</th>\n",
              "      <td>5</td>\n",
              "      <td>Alachua</td>\n",
              "      <td>77</td>\n",
              "      <td>Male</td>\n",
              "      <td>04</td>\n",
              "      <td>18</td>\n",
              "      <td>2020</td>\n",
              "      <td>Saturday</td>\n",
              "    </tr>\n",
              "  </tbody>\n",
              "</table>\n",
              "</div>"
            ],
            "text/plain": [
              "  CASE   COUNTY AGE GENDER DATE.MONTH DATE.DAY DATE.YEAR DATE.WEEKDAY\n",
              "0    3  Alachua  87   Male         04       09      2020     Thursday\n",
              "1    4  Alachua  76   Male         04       09      2020     Thursday\n",
              "2    5  Alachua  77   Male         04       18      2020     Saturday"
            ]
          },
          "metadata": {
            "tags": []
          },
          "execution_count": 38
        }
      ]
    },
    {
      "cell_type": "code",
      "metadata": {
        "id": "oXOwmHeyHUB-",
        "colab_type": "code",
        "colab": {
          "base_uri": "https://localhost:8080/",
          "height": 122
        },
        "outputId": "f41315eb-900e-4dba-be46-fe792e9cb3be"
      },
      "source": [
        "### Counts for the individual months\n",
        "df_mald[\"DATE.MONTH\"].value_counts()"
      ],
      "execution_count": 39,
      "outputs": [
        {
          "output_type": "execute_result",
          "data": {
            "text/plain": [
              "04    902\n",
              "06    592\n",
              "05    532\n",
              "07    259\n",
              "03    257\n",
              "Name: DATE.MONTH, dtype: int64"
            ]
          },
          "metadata": {
            "tags": []
          },
          "execution_count": 39
        }
      ]
    },
    {
      "cell_type": "code",
      "metadata": {
        "id": "xbMa93S4hLCi",
        "colab_type": "code",
        "colab": {
          "base_uri": "https://localhost:8080/",
          "height": 158
        },
        "outputId": "e7e5dabc-c609-4cff-82c9-8accfe8db0ba"
      },
      "source": [
        "### Counts for the Weekdays\n",
        "df_mald[\"DATE.WEEKDAY\"].value_counts()"
      ],
      "execution_count": 40,
      "outputs": [
        {
          "output_type": "execute_result",
          "data": {
            "text/plain": [
              "Wednesday    422\n",
              "Thursday     406\n",
              "Friday       387\n",
              "Saturday     356\n",
              "Monday       352\n",
              "Sunday       313\n",
              "Tuesday      306\n",
              "Name: DATE.WEEKDAY, dtype: int64"
            ]
          },
          "metadata": {
            "tags": []
          },
          "execution_count": 40
        }
      ]
    },
    {
      "cell_type": "code",
      "metadata": {
        "id": "Cls6DYQB7_NS",
        "colab_type": "code",
        "colab": {
          "base_uri": "https://localhost:8080/",
          "height": 136
        },
        "outputId": "ea8796e7-8393-48db-f638-ee77b69284ba"
      },
      "source": [
        "### Weekdays Find/Replace encoding\n",
        "cleanup_days = {\"DATE.WEEKDAY\":     {\"Sunday\": 1, \"Monday\": 2, \"Tuesday\":3, \"Wednesday\":4, \"Thursday\":5, \"Friday\":6, \"Saturday\":7}}\n",
        "df_mald.replace(cleanup_days, inplace=True)\n",
        "\n",
        "df_mald.head(3)                               "
      ],
      "execution_count": 41,
      "outputs": [
        {
          "output_type": "execute_result",
          "data": {
            "text/html": [
              "<div>\n",
              "<style scoped>\n",
              "    .dataframe tbody tr th:only-of-type {\n",
              "        vertical-align: middle;\n",
              "    }\n",
              "\n",
              "    .dataframe tbody tr th {\n",
              "        vertical-align: top;\n",
              "    }\n",
              "\n",
              "    .dataframe thead th {\n",
              "        text-align: right;\n",
              "    }\n",
              "</style>\n",
              "<table border=\"1\" class=\"dataframe\">\n",
              "  <thead>\n",
              "    <tr style=\"text-align: right;\">\n",
              "      <th></th>\n",
              "      <th>CASE</th>\n",
              "      <th>COUNTY</th>\n",
              "      <th>AGE</th>\n",
              "      <th>GENDER</th>\n",
              "      <th>DATE.MONTH</th>\n",
              "      <th>DATE.DAY</th>\n",
              "      <th>DATE.YEAR</th>\n",
              "      <th>DATE.WEEKDAY</th>\n",
              "    </tr>\n",
              "  </thead>\n",
              "  <tbody>\n",
              "    <tr>\n",
              "      <th>0</th>\n",
              "      <td>3</td>\n",
              "      <td>Alachua</td>\n",
              "      <td>87</td>\n",
              "      <td>Male</td>\n",
              "      <td>04</td>\n",
              "      <td>09</td>\n",
              "      <td>2020</td>\n",
              "      <td>5</td>\n",
              "    </tr>\n",
              "    <tr>\n",
              "      <th>1</th>\n",
              "      <td>4</td>\n",
              "      <td>Alachua</td>\n",
              "      <td>76</td>\n",
              "      <td>Male</td>\n",
              "      <td>04</td>\n",
              "      <td>09</td>\n",
              "      <td>2020</td>\n",
              "      <td>5</td>\n",
              "    </tr>\n",
              "    <tr>\n",
              "      <th>2</th>\n",
              "      <td>5</td>\n",
              "      <td>Alachua</td>\n",
              "      <td>77</td>\n",
              "      <td>Male</td>\n",
              "      <td>04</td>\n",
              "      <td>18</td>\n",
              "      <td>2020</td>\n",
              "      <td>7</td>\n",
              "    </tr>\n",
              "  </tbody>\n",
              "</table>\n",
              "</div>"
            ],
            "text/plain": [
              "  CASE   COUNTY AGE GENDER DATE.MONTH DATE.DAY DATE.YEAR  DATE.WEEKDAY\n",
              "0    3  Alachua  87   Male         04       09      2020             5\n",
              "1    4  Alachua  76   Male         04       09      2020             5\n",
              "2    5  Alachua  77   Male         04       18      2020             7"
            ]
          },
          "metadata": {
            "tags": []
          },
          "execution_count": 41
        }
      ]
    },
    {
      "cell_type": "code",
      "metadata": {
        "id": "7LWirt2JJxNH",
        "colab_type": "code",
        "colab": {}
      },
      "source": [
        "### drop year since all values are 2020\n",
        "df_mald = df_mald.drop(['DATE.YEAR'], axis = 1)"
      ],
      "execution_count": 42,
      "outputs": []
    },
    {
      "cell_type": "code",
      "metadata": {
        "id": "vdpaWh90Jxei",
        "colab_type": "code",
        "colab": {}
      },
      "source": [
        "### change to numerics\n",
        "df_mald['DATE.DAY'] = df_mald['DATE.DAY'].astype(int)\n",
        "df_mald['DATE.MONTH'] = df_mald['DATE.MONTH'].astype(int)"
      ],
      "execution_count": 43,
      "outputs": []
    },
    {
      "cell_type": "code",
      "metadata": {
        "id": "3HJkD-mGKXwM",
        "colab_type": "code",
        "colab": {
          "base_uri": "https://localhost:8080/",
          "height": 136
        },
        "outputId": "aa400517-7b4b-4beb-a9bc-621676ac043c"
      },
      "source": [
        "df_mald.head(3)"
      ],
      "execution_count": 44,
      "outputs": [
        {
          "output_type": "execute_result",
          "data": {
            "text/html": [
              "<div>\n",
              "<style scoped>\n",
              "    .dataframe tbody tr th:only-of-type {\n",
              "        vertical-align: middle;\n",
              "    }\n",
              "\n",
              "    .dataframe tbody tr th {\n",
              "        vertical-align: top;\n",
              "    }\n",
              "\n",
              "    .dataframe thead th {\n",
              "        text-align: right;\n",
              "    }\n",
              "</style>\n",
              "<table border=\"1\" class=\"dataframe\">\n",
              "  <thead>\n",
              "    <tr style=\"text-align: right;\">\n",
              "      <th></th>\n",
              "      <th>CASE</th>\n",
              "      <th>COUNTY</th>\n",
              "      <th>AGE</th>\n",
              "      <th>GENDER</th>\n",
              "      <th>DATE.MONTH</th>\n",
              "      <th>DATE.DAY</th>\n",
              "      <th>DATE.WEEKDAY</th>\n",
              "    </tr>\n",
              "  </thead>\n",
              "  <tbody>\n",
              "    <tr>\n",
              "      <th>0</th>\n",
              "      <td>3</td>\n",
              "      <td>Alachua</td>\n",
              "      <td>87</td>\n",
              "      <td>Male</td>\n",
              "      <td>4</td>\n",
              "      <td>9</td>\n",
              "      <td>5</td>\n",
              "    </tr>\n",
              "    <tr>\n",
              "      <th>1</th>\n",
              "      <td>4</td>\n",
              "      <td>Alachua</td>\n",
              "      <td>76</td>\n",
              "      <td>Male</td>\n",
              "      <td>4</td>\n",
              "      <td>9</td>\n",
              "      <td>5</td>\n",
              "    </tr>\n",
              "    <tr>\n",
              "      <th>2</th>\n",
              "      <td>5</td>\n",
              "      <td>Alachua</td>\n",
              "      <td>77</td>\n",
              "      <td>Male</td>\n",
              "      <td>4</td>\n",
              "      <td>18</td>\n",
              "      <td>7</td>\n",
              "    </tr>\n",
              "  </tbody>\n",
              "</table>\n",
              "</div>"
            ],
            "text/plain": [
              "  CASE   COUNTY AGE GENDER  DATE.MONTH  DATE.DAY  DATE.WEEKDAY\n",
              "0    3  Alachua  87   Male           4         9             5\n",
              "1    4  Alachua  76   Male           4         9             5\n",
              "2    5  Alachua  77   Male           4        18             7"
            ]
          },
          "metadata": {
            "tags": []
          },
          "execution_count": 44
        }
      ]
    },
    {
      "cell_type": "code",
      "metadata": {
        "id": "-O_Ri_MPLLjl",
        "colab_type": "code",
        "colab": {}
      },
      "source": [
        "### change to numeric\n",
        "df_mald['AGE'] = df_mald['AGE'].astype(int)"
      ],
      "execution_count": 45,
      "outputs": []
    },
    {
      "cell_type": "code",
      "metadata": {
        "id": "3aFhalJaKn4L",
        "colab_type": "code",
        "colab": {
          "base_uri": "https://localhost:8080/",
          "height": 158
        },
        "outputId": "054c1e7c-c662-44ce-8313-03143fe1ab53"
      },
      "source": [
        "### data types check\n",
        "df_mald.dtypes"
      ],
      "execution_count": 46,
      "outputs": [
        {
          "output_type": "execute_result",
          "data": {
            "text/plain": [
              "CASE            object\n",
              "COUNTY          object\n",
              "AGE              int64\n",
              "GENDER          object\n",
              "DATE.MONTH       int64\n",
              "DATE.DAY         int64\n",
              "DATE.WEEKDAY     int64\n",
              "dtype: object"
            ]
          },
          "metadata": {
            "tags": []
          },
          "execution_count": 46
        }
      ]
    },
    {
      "cell_type": "code",
      "metadata": {
        "id": "6kWA2aDpggNl",
        "colab_type": "code",
        "colab": {
          "base_uri": "https://localhost:8080/",
          "height": 1000
        },
        "outputId": "a24f0962-f840-4285-b646-cd49b4b4a105"
      },
      "source": [
        "### Counts for the Counties\n",
        "df_mald[\"COUNTY\"].value_counts()"
      ],
      "execution_count": 47,
      "outputs": [
        {
          "output_type": "execute_result",
          "data": {
            "text/plain": [
              "Dade            696\n",
              "Palm Beach      360\n",
              "Broward         266\n",
              "Pinellas        142\n",
              "Hillsborough    107\n",
              "Lee             107\n",
              "Manatee          76\n",
              "Polk             68\n",
              "Orange           62\n",
              "Sarasota         61\n",
              "Collier          60\n",
              "Duval            50\n",
              "Volusia          38\n",
              "Charlotte        33\n",
              "St. Lucie        31\n",
              "Martin           25\n",
              "Escambia         25\n",
              "Brevard          24\n",
              "Pasco            21\n",
              "Clay             21\n",
              "Osceola          21\n",
              "Hendry           17\n",
              "Lake             16\n",
              "Marion           14\n",
              "Seminole         14\n",
              "Suwannee         13\n",
              "Sumter           12\n",
              "Indian River     12\n",
              "Desoto           11\n",
              "St. Johns        10\n",
              "Citrus           10\n",
              "Santa Rosa       10\n",
              "Highlands         9\n",
              "Washington        8\n",
              "Hernando          8\n",
              "Walton            7\n",
              "Bay               7\n",
              "Gadsden           6\n",
              "Alachua           6\n",
              "Putnam            5\n",
              "Leon              5\n",
              "Monroe            5\n",
              "Okaloosa          5\n",
              "Dixie             4\n",
              "Flagler           4\n",
              "Calhoun           4\n",
              "Jackson           4\n",
              "Madison           3\n",
              "Columbia          3\n",
              "Hardee            3\n",
              "Nassau            2\n",
              "Jefferson         2\n",
              "Union             2\n",
              "Liberty           1\n",
              "Hamilton          1\n",
              "Wakulla           1\n",
              "Baker             1\n",
              "Levy              1\n",
              "Glades            1\n",
              "Okeechobee        1\n",
              "Name: COUNTY, dtype: int64"
            ]
          },
          "metadata": {
            "tags": []
          },
          "execution_count": 47
        }
      ]
    },
    {
      "cell_type": "code",
      "metadata": {
        "id": "LmzM4avv1mMj",
        "colab_type": "code",
        "colab": {
          "base_uri": "https://localhost:8080/",
          "height": 34
        },
        "outputId": "1ff5696d-f726-41e2-ed16-fabbe2097342"
      },
      "source": [
        "### check for how many unique counties\n",
        "df_mald[\"COUNTY\"].nunique()"
      ],
      "execution_count": 48,
      "outputs": [
        {
          "output_type": "execute_result",
          "data": {
            "text/plain": [
              "60"
            ]
          },
          "metadata": {
            "tags": []
          },
          "execution_count": 48
        }
      ]
    },
    {
      "cell_type": "code",
      "metadata": {
        "id": "ke7amWIXJxsz",
        "colab_type": "code",
        "colab": {
          "base_uri": "https://localhost:8080/",
          "height": 136
        },
        "outputId": "6e2fe83d-125b-4518-d977-0bd5abd17dc8"
      },
      "source": [
        "### County Find/Replace encoding\n",
        "cleanup_county = {\"COUNTY\": {\"Alachua\": 1, \"Baker\": 2, \"Bay\": 3, \"Bradford\": 4, \"Brevard\": 5, \"Broward\": 6, \n",
        "                             \"Calhoun\": 7, \"Charlotte\": 8, \"Citrus\": 9, \"Clay\": 10, \"Collier\": 11, \"Columbia\": 12,\n",
        "\t\t\t\t\t\t\t\t\t\t\t\t\t\t \"Dade\": 13, \"Desoto\": 14, \"Dixie\": 15, \"Duval\": 16, \"Escambia\": 17, \"Flagler\": 18, \n",
        "\t\t\t\t\t\t\t\t\t\t\t\t\t\t \"Franklin\": 19, \"Gadsden\": 20, \"Gilchrist\": 21, \"Glades\": 22, \"Gulf\": 23, \n",
        "\t\t\t\t\t\t\t\t\t\t\t\t\t\t \"Hamilton\": 24, \"Hardee\": 25, \"Hendry\": 26, \"Hernando\": 27, \"Highlands\": 28, \n",
        "\t\t\t\t\t\t\t\t\t\t\t\t\t\t \"Hillsborough\": 29, \"Holmes\": 30, \"Indian River\":\t31, \"Jackson\": 32, \"Jefferson\":\t33, \n",
        "\t\t\t\t\t\t\t\t\t\t\t\t\t\t \"Lafayette\": 34, \"Lake\": 35, \"Lee\": 36, \"Leon\": 37, \"Levy\": 38, \"Liberty\":\t39, \n",
        "\t\t\t\t\t\t\t\t\t\t\t\t\t\t \"Madison\": 40, \"Manatee\": 41, \"Marion\": 42, \"Martin\": 43, \"Monroe\": 44, \n",
        "\t\t\t\t\t\t\t\t\t\t\t\t\t\t \"Nassau\": 45, \"Okaloosa\": 46, \"Okeechobee\": 47, \"Orange\": 48, \"Osceola\": 49, \n",
        "\t\t\t\t\t\t\t\t\t\t\t\t\t\t \"Palm Beach\": 50, \"Pasco\": 51, \"Pinellas\":\t52, \"Polk\":\t53, \"Putnam\": 54, \n",
        "\t\t\t\t\t\t\t\t\t\t\t\t\t\t \"St. Johns\": 55, \"St. Lucie\": 56, \"Santa Rosa\": 57, \"Sarasota\": 58, \"Seminole\": 59,\n",
        "\t\t\t\t\t\t\t\t\t\t\t\t\t\t \"Sumter\": 60, \"Suwannee\": 61, \"Taylor\": 62, \"Union\": 63, \"Volusia\": 64, \n",
        "\t\t\t\t\t\t\t\t\t\t\t\t\t\t \"Wakulla\": 65, \"Walton\": 66, \"Washington\": 67, \"Unknown\": 68 }} \t \n",
        "df_mald.replace(cleanup_county, inplace=True)\n",
        "\n",
        "df_mald.head(3)     "
      ],
      "execution_count": 49,
      "outputs": [
        {
          "output_type": "execute_result",
          "data": {
            "text/html": [
              "<div>\n",
              "<style scoped>\n",
              "    .dataframe tbody tr th:only-of-type {\n",
              "        vertical-align: middle;\n",
              "    }\n",
              "\n",
              "    .dataframe tbody tr th {\n",
              "        vertical-align: top;\n",
              "    }\n",
              "\n",
              "    .dataframe thead th {\n",
              "        text-align: right;\n",
              "    }\n",
              "</style>\n",
              "<table border=\"1\" class=\"dataframe\">\n",
              "  <thead>\n",
              "    <tr style=\"text-align: right;\">\n",
              "      <th></th>\n",
              "      <th>CASE</th>\n",
              "      <th>COUNTY</th>\n",
              "      <th>AGE</th>\n",
              "      <th>GENDER</th>\n",
              "      <th>DATE.MONTH</th>\n",
              "      <th>DATE.DAY</th>\n",
              "      <th>DATE.WEEKDAY</th>\n",
              "    </tr>\n",
              "  </thead>\n",
              "  <tbody>\n",
              "    <tr>\n",
              "      <th>0</th>\n",
              "      <td>3</td>\n",
              "      <td>1</td>\n",
              "      <td>87</td>\n",
              "      <td>Male</td>\n",
              "      <td>4</td>\n",
              "      <td>9</td>\n",
              "      <td>5</td>\n",
              "    </tr>\n",
              "    <tr>\n",
              "      <th>1</th>\n",
              "      <td>4</td>\n",
              "      <td>1</td>\n",
              "      <td>76</td>\n",
              "      <td>Male</td>\n",
              "      <td>4</td>\n",
              "      <td>9</td>\n",
              "      <td>5</td>\n",
              "    </tr>\n",
              "    <tr>\n",
              "      <th>2</th>\n",
              "      <td>5</td>\n",
              "      <td>1</td>\n",
              "      <td>77</td>\n",
              "      <td>Male</td>\n",
              "      <td>4</td>\n",
              "      <td>18</td>\n",
              "      <td>7</td>\n",
              "    </tr>\n",
              "  </tbody>\n",
              "</table>\n",
              "</div>"
            ],
            "text/plain": [
              "  CASE  COUNTY  AGE GENDER  DATE.MONTH  DATE.DAY  DATE.WEEKDAY\n",
              "0    3       1   87   Male           4         9             5\n",
              "1    4       1   76   Male           4         9             5\n",
              "2    5       1   77   Male           4        18             7"
            ]
          },
          "metadata": {
            "tags": []
          },
          "execution_count": 49
        }
      ]
    },
    {
      "cell_type": "code",
      "metadata": {
        "id": "VOoZprMCUfEJ",
        "colab_type": "code",
        "colab": {}
      },
      "source": [
        "df_mald['COUNTY'] = df_mald['COUNTY'].astype(int)"
      ],
      "execution_count": 50,
      "outputs": []
    },
    {
      "cell_type": "code",
      "metadata": {
        "id": "iG-6t0ow8n7Z",
        "colab_type": "code",
        "colab": {}
      },
      "source": [
        "### add columns for male deaths\n",
        "df_mald['Deaths'] = 1\n",
        "df_mald['Cases'] = 0"
      ],
      "execution_count": 51,
      "outputs": []
    },
    {
      "cell_type": "code",
      "metadata": {
        "id": "g26b73GnKZt6",
        "colab_type": "code",
        "colab": {}
      },
      "source": [
        "### add column for male to replace GENDER which will be dropped\n",
        "df_mald.insert(3,'Female', 0) "
      ],
      "execution_count": 52,
      "outputs": []
    },
    {
      "cell_type": "code",
      "metadata": {
        "id": "M-LGF5O0bvCd",
        "colab_type": "code",
        "colab": {}
      },
      "source": [
        "### add column for male to replace GENDER which will be dropped\n",
        "df_mald.insert(4,'Male', 1) "
      ],
      "execution_count": 53,
      "outputs": []
    },
    {
      "cell_type": "code",
      "metadata": {
        "id": "gWCWJhEuKZ9P",
        "colab_type": "code",
        "colab": {}
      },
      "source": [
        "df_mald = df_mald.drop(['GENDER'], axis = 1)"
      ],
      "execution_count": 54,
      "outputs": []
    },
    {
      "cell_type": "code",
      "metadata": {
        "id": "HUQwdjffUk0P",
        "colab_type": "code",
        "colab": {}
      },
      "source": [
        "df_mald = df_mald.drop(['CASE'], axis = 1)"
      ],
      "execution_count": 55,
      "outputs": []
    },
    {
      "cell_type": "code",
      "metadata": {
        "id": "kD_S77V89uLr",
        "colab_type": "code",
        "colab": {
          "base_uri": "https://localhost:8080/",
          "height": 70
        },
        "outputId": "51805fe0-cc8e-499f-b37e-603e28a8d790"
      },
      "source": [
        "df_mald.columns"
      ],
      "execution_count": 56,
      "outputs": [
        {
          "output_type": "execute_result",
          "data": {
            "text/plain": [
              "Index(['COUNTY', 'AGE', 'Female', 'Male', 'DATE.MONTH', 'DATE.DAY',\n",
              "       'DATE.WEEKDAY', 'Deaths', 'Cases'],\n",
              "      dtype='object')"
            ]
          },
          "metadata": {
            "tags": []
          },
          "execution_count": 56
        }
      ]
    },
    {
      "cell_type": "code",
      "metadata": {
        "id": "vzmbGS9d_J1t",
        "colab_type": "code",
        "colab": {
          "base_uri": "https://localhost:8080/",
          "height": 136
        },
        "outputId": "3651cef6-905e-4605-abdc-2f94f6b5b317"
      },
      "source": [
        "df_mald.head(3)"
      ],
      "execution_count": 57,
      "outputs": [
        {
          "output_type": "execute_result",
          "data": {
            "text/html": [
              "<div>\n",
              "<style scoped>\n",
              "    .dataframe tbody tr th:only-of-type {\n",
              "        vertical-align: middle;\n",
              "    }\n",
              "\n",
              "    .dataframe tbody tr th {\n",
              "        vertical-align: top;\n",
              "    }\n",
              "\n",
              "    .dataframe thead th {\n",
              "        text-align: right;\n",
              "    }\n",
              "</style>\n",
              "<table border=\"1\" class=\"dataframe\">\n",
              "  <thead>\n",
              "    <tr style=\"text-align: right;\">\n",
              "      <th></th>\n",
              "      <th>COUNTY</th>\n",
              "      <th>AGE</th>\n",
              "      <th>Female</th>\n",
              "      <th>Male</th>\n",
              "      <th>DATE.MONTH</th>\n",
              "      <th>DATE.DAY</th>\n",
              "      <th>DATE.WEEKDAY</th>\n",
              "      <th>Deaths</th>\n",
              "      <th>Cases</th>\n",
              "    </tr>\n",
              "  </thead>\n",
              "  <tbody>\n",
              "    <tr>\n",
              "      <th>0</th>\n",
              "      <td>1</td>\n",
              "      <td>87</td>\n",
              "      <td>0</td>\n",
              "      <td>1</td>\n",
              "      <td>4</td>\n",
              "      <td>9</td>\n",
              "      <td>5</td>\n",
              "      <td>1</td>\n",
              "      <td>0</td>\n",
              "    </tr>\n",
              "    <tr>\n",
              "      <th>1</th>\n",
              "      <td>1</td>\n",
              "      <td>76</td>\n",
              "      <td>0</td>\n",
              "      <td>1</td>\n",
              "      <td>4</td>\n",
              "      <td>9</td>\n",
              "      <td>5</td>\n",
              "      <td>1</td>\n",
              "      <td>0</td>\n",
              "    </tr>\n",
              "    <tr>\n",
              "      <th>2</th>\n",
              "      <td>1</td>\n",
              "      <td>77</td>\n",
              "      <td>0</td>\n",
              "      <td>1</td>\n",
              "      <td>4</td>\n",
              "      <td>18</td>\n",
              "      <td>7</td>\n",
              "      <td>1</td>\n",
              "      <td>0</td>\n",
              "    </tr>\n",
              "  </tbody>\n",
              "</table>\n",
              "</div>"
            ],
            "text/plain": [
              "   COUNTY  AGE  Female  Male  DATE.MONTH  DATE.DAY  DATE.WEEKDAY  Deaths  Cases\n",
              "0       1   87       0     1           4         9             5       1      0\n",
              "1       1   76       0     1           4         9             5       1      0\n",
              "2       1   77       0     1           4        18             7       1      0"
            ]
          },
          "metadata": {
            "tags": []
          },
          "execution_count": 57
        }
      ]
    },
    {
      "cell_type": "code",
      "metadata": {
        "id": "S-guTUOlS0tr",
        "colab_type": "code",
        "colab": {
          "base_uri": "https://localhost:8080/",
          "height": 193
        },
        "outputId": "10fcfb94-34d2-497a-fc69-41bf62f29787"
      },
      "source": [
        "df_mald.dtypes"
      ],
      "execution_count": 58,
      "outputs": [
        {
          "output_type": "execute_result",
          "data": {
            "text/plain": [
              "COUNTY          int64\n",
              "AGE             int64\n",
              "Female          int64\n",
              "Male            int64\n",
              "DATE.MONTH      int64\n",
              "DATE.DAY        int64\n",
              "DATE.WEEKDAY    int64\n",
              "Deaths          int64\n",
              "Cases           int64\n",
              "dtype: object"
            ]
          },
          "metadata": {
            "tags": []
          },
          "execution_count": 58
        }
      ]
    },
    {
      "cell_type": "code",
      "metadata": {
        "id": "IG7NFQB3T6kE",
        "colab_type": "code",
        "colab": {}
      },
      "source": [
        "# saving the dataframe \n",
        "df_mald.to_csv('encoded_male_deaths.csv') "
      ],
      "execution_count": 59,
      "outputs": []
    }
  ]
}